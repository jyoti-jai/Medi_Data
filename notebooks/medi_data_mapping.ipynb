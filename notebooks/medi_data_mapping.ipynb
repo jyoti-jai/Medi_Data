{
 "cells": [
  {
   "cell_type": "code",
   "execution_count": null,
   "id": "15f9a431",
   "metadata": {},
   "outputs": [],
   "source": [
    "import pandas as pd\n",
    "from transformers import AutoTokenizer, AutoModel\n",
    "import torch"
   ]
  },
  {
   "cell_type": "code",
   "execution_count": 10,
   "id": "5c1f0bf1",
   "metadata": {},
   "outputs": [],
   "source": [
    "def generate_embeddings(texts, tokenizer, model):\n",
    "    \"\"\"\n",
    "    Generate embeddings for a list of texts using ClinicalBERT.\n",
    "    \"\"\"\n",
    "    # Tokenize texts\n",
    "    tokens = tokenizer(texts, padding=True, truncation=True, return_tensors=\"pt\", max_length=512)\n",
    "    \n",
    "    # Generate embeddings using the ClinicalBERT model\n",
    "    with torch.no_grad():  # Disable gradient computation\n",
    "        output = model(**tokens)\n",
    "    # Extract the [CLS] token embeddings (representing the entire sequence)\n",
    "    embeddings = output.last_hidden_state[:, 0, :]  # Shape: (batch_size, embedding_dim)\n",
    "    return embeddings.numpy()  # Convert to NumPy array for easier handling"
   ]
  },
  {
   "cell_type": "code",
   "execution_count": 11,
   "id": "a68c9a1b",
   "metadata": {},
   "outputs": [],
   "source": [
    "# Load ClinicalBERT from Hugging Face\n",
    "tokenizer = AutoTokenizer.from_pretrained(\"emilyalsentzer/Bio_ClinicalBERT\")\n",
    "model = AutoModel.from_pretrained(\"emilyalsentzer/Bio_ClinicalBERT\")"
   ]
  },
  {
   "cell_type": "code",
   "execution_count": 13,
   "id": "8291e798",
   "metadata": {},
   "outputs": [],
   "source": [
    "ehr_data = pd.read_csv(\"../data/ehr/dummy_ehr_data.csv\")\n",
    "snomed_data = pd.read_csv(\"../data/snomed/dummy_snomed_data.csv\")\n",
    "\n",
    "# Display the first few rows of each dataset\n",
    "# print(\"EHR Dataset:\")\n",
    "# print(ehr_data.head())\n",
    "# print(\"SNOMED Dataset:\")\n",
    "# print(snomed_data.head())\n",
    "\n",
    "# Extract the 'text' column for embedding generation\n",
    "ehr_texts = ehr_data['Diagnosis_Text'].tolist()  # Assuming a 'text' column exists\n",
    "snomed_texts = snomed_data['Term'].tolist()"
   ]
  },
  {
   "cell_type": "code",
   "execution_count": 14,
   "id": "bb670fad",
   "metadata": {},
   "outputs": [
    {
     "name": "stdout",
     "output_type": "stream",
     "text": [
      "EHR Embeddings Shape: (1000, 768)\n",
      "SNOMED Embeddings Shape: (100, 768)\n"
     ]
    }
   ],
   "source": [
    "# Generate embeddings for EHR and SNOMED texts\n",
    "ehr_embeddings = generate_embeddings(ehr_texts, tokenizer, model)\n",
    "snomed_embeddings = generate_embeddings(snomed_texts, tokenizer, model)\n",
    "\n",
    "# Verify the shape of the embeddings\n",
    "print(\"EHR Embeddings Shape:\", ehr_embeddings.shape)\n",
    "print(\"SNOMED Embeddings Shape:\", snomed_embeddings.shape)\n"
   ]
  },
  {
   "cell_type": "code",
   "execution_count": 15,
   "id": "0a12f3a9",
   "metadata": {},
   "outputs": [],
   "source": [
    "from sklearn.metrics.pairwise import cosine_similarity\n",
    "import numpy as np\n",
    "\n",
    "def find_closest_match(ehr_embedding, snomed_embeddings):\n",
    "    \"\"\"\n",
    "    Find the closest SNOMED embedding to the given EHR embedding using cosine similarity.\n",
    "    \"\"\"\n",
    "    # Compute cosine similarity between the EHR embedding and all SNOMED embeddings\n",
    "    similarities = cosine_similarity(ehr_embedding.reshape(1, -1), snomed_embeddings)\n",
    "    \n",
    "    # Get the index of the closest SNOMED embedding\n",
    "    closest_index = np.argmax(similarities)\n",
    "    return closest_index\n"
   ]
  },
  {
   "cell_type": "code",
   "execution_count": 18,
   "id": "c96e1015",
   "metadata": {},
   "outputs": [],
   "source": [
    "# Save embeddings to files\n",
    "import numpy as np\n",
    "np.save(\"../data/ehr/ehr_embeddings.npy\", ehr_embeddings)\n",
    "np.save(\"../data/snomed/snomed_embeddings.npy\", snomed_embeddings)\n"
   ]
  },
  {
   "cell_type": "code",
   "execution_count": null,
   "id": "9c8f0729",
   "metadata": {},
   "outputs": [],
   "source": [
    "# Load EHR embeddings\n",
    "ehr_embeddings = np.load(\"../data/ehr/ehr_embeddings.npy\")\n",
    "\n",
    "# Load SNOMED embeddings\n",
    "snomed_embeddings = np.load(\"../data/snomed/snomed_embeddings.npy\")\n",
    "\n",
    "# Print their shapes to verify\n",
    "print(\"EHR Embeddings Shape:\", ehr_embeddings.shape)\n",
    "print(\"SNOMED Embeddings Shape:\", snomed_embeddings.shape)"
   ]
  },
  {
   "cell_type": "code",
   "execution_count": 16,
   "id": "e0104d04",
   "metadata": {},
   "outputs": [
    {
     "name": "stdout",
     "output_type": "stream",
     "text": [
      "EHR Text: migraine with nausea\n",
      "Closest SNOMED Text: Migraine\n",
      "--------------------------------------------------\n",
      "EHR Text: sore throat\n",
      "Closest SNOMED Text: Chronic low back pain\n",
      "--------------------------------------------------\n",
      "EHR Text: asthma attack\n",
      "Closest SNOMED Text: Upper respiratory infection\n",
      "--------------------------------------------------\n",
      "EHR Text: depression symptoms\n",
      "Closest SNOMED Text: Depressive disorder\n",
      "--------------------------------------------------\n",
      "EHR Text: dizziness\n",
      "Closest SNOMED Text: Chest pain\n",
      "--------------------------------------------------\n",
      "EHR Text: sore throat\n",
      "Closest SNOMED Text: Chronic low back pain\n",
      "--------------------------------------------------\n",
      "EHR Text: type 2 diabetes\n",
      "Closest SNOMED Text: Diabetes mellitus type 2\n",
      "--------------------------------------------------\n",
      "EHR Text: type 2 diabetes\n",
      "Closest SNOMED Text: Diabetes mellitus type 2\n",
      "--------------------------------------------------\n",
      "EHR Text: shortness of breath\n",
      "Closest SNOMED Text: Shortness of breath\n",
      "--------------------------------------------------\n",
      "EHR Text: runny nose\n",
      "Closest SNOMED Text: Migraine\n",
      "--------------------------------------------------\n"
     ]
    }
   ],
   "source": [
    "for i in range(10):  # Adjust this number if you want more or fewer texts\n",
    "    ehr_embedding = ehr_embeddings[i]  # Select the i-th EHR embedding\n",
    "    \n",
    "    # Find the closest matching SNOMED embedding\n",
    "    closest_index = find_closest_match(ehr_embedding, snomed_embeddings)\n",
    "    \n",
    "    # Print the EHR text and the matching SNOMED text\n",
    "    print(f\"EHR Text: {ehr_texts[i]}\")\n",
    "    print(f\"Closest SNOMED Text: {snomed_texts[closest_index]}\")\n",
    "    print(\"-\" * 50)  # Separator for readability\n"
   ]
  }
 ],
 "metadata": {
  "kernelspec": {
   "display_name": "medi_env",
   "language": "python",
   "name": "python3"
  },
  "language_info": {
   "codemirror_mode": {
    "name": "ipython",
    "version": 3
   },
   "file_extension": ".py",
   "mimetype": "text/x-python",
   "name": "python",
   "nbconvert_exporter": "python",
   "pygments_lexer": "ipython3",
   "version": "3.12.3"
  }
 },
 "nbformat": 4,
 "nbformat_minor": 5
}
