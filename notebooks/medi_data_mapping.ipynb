{
 "cells": [
  {
   "cell_type": "code",
   "execution_count": 5,
   "id": "15f9a431",
   "metadata": {},
   "outputs": [
    {
     "name": "stdout",
     "output_type": "stream",
     "text": [
      "EHR Dataset:\n",
      "    EHR_ID Patient_ID        Diagnosis_Text        Date\n",
      "0  EHR0001       P370  migraine with nausea  2025-04-17\n",
      "1  EHR0002       P253           sore throat  2025-03-21\n",
      "2  EHR0003       P493         asthma attack  2025-04-09\n",
      "3  EHR0004       P267   depression symptoms  2025-03-23\n",
      "4  EHR0005       P129             dizziness  2025-03-21\n",
      "SNOMED Dataset:\n",
      "   SNOMED_ID                      Term                             Description\n",
      "0  386661006                Chest pain                       Pain in the chest\n",
      "1  267036007                   Fatigue      Feeling of tiredness or exhaustion\n",
      "2  386705008       Shortness of breath                    Difficulty breathing\n",
      "3  195967001                    Asthma  Chronic inflammatory disease of airway\n",
      "4   44054006  Diabetes mellitus type 2                         Type 2 diabetes\n"
     ]
    }
   ],
   "source": [
    "import pandas as pd\n",
    "ehr_data = pd.read_csv(\"../data/ehr/dummy_ehr_data.csv\")\n",
    "snomed_data = pd.read_csv(\"../data/snomed/dummy_snomed_data.csv\")\n",
    "\n",
    "# Display the first few rows of each dataset\n",
    "print(\"EHR Dataset:\")\n",
    "print(ehr_data.head())\n",
    "print(\"SNOMED Dataset:\")\n",
    "print(snomed_data.head())\n",
    "\n",
    "# Extract the 'text' column for embedding generation\n",
    "ehr_texts = ehr_data['Diagnosis_Text'].tolist()  # Assuming a 'text' column exists\n",
    "snomed_texts = snomed_data['Term'].tolist()"
   ]
  },
  {
   "cell_type": "code",
   "execution_count": 6,
   "id": "5c1f0bf1",
   "metadata": {},
   "outputs": [],
   "source": [
    "import torch\n",
    "def generate_embeddings(texts, tokenizer, model):\n",
    "    \"\"\"\n",
    "    Generate embeddings for a list of texts using ClinicalBERT.\n",
    "    \"\"\"\n",
    "    # Tokenize texts\n",
    "    tokens = tokenizer(texts, padding=True, truncation=True, return_tensors=\"pt\", max_length=512)\n",
    "    \n",
    "    # Generate embeddings using the ClinicalBERT model\n",
    "    with torch.no_grad():  # Disable gradient computation\n",
    "        output = model(**tokens)\n",
    "    # Extract the [CLS] token embeddings (representing the entire sequence)\n",
    "    embeddings = output.last_hidden_state[:, 0, :]  # Shape: (batch_size, embedding_dim)\n",
    "    return embeddings.numpy()  # Convert to NumPy array for easier handling"
   ]
  },
  {
   "cell_type": "code",
   "execution_count": 19,
   "id": "bb670fad",
   "metadata": {},
   "outputs": [
    {
     "name": "stderr",
     "output_type": "stream",
     "text": [
      "/home/jyoti/Medi_Data/medi_env/lib/python3.12/site-packages/tqdm/auto.py:21: TqdmWarning: IProgress not found. Please update jupyter and ipywidgets. See https://ipywidgets.readthedocs.io/en/stable/user_install.html\n",
      "  from .autonotebook import tqdm as notebook_tqdm\n"
     ]
    },
    {
     "name": "stdout",
     "output_type": "stream",
     "text": [
      "<class 'numpy.ndarray'>\n",
      "SNOMED Embeddings Shape: (100, 768)\n"
     ]
    }
   ],
   "source": [
    "from transformers import AutoTokenizer, AutoModel\n",
    "import numpy as np\n",
    "# Load ClinicalBERT from Hugging Face\n",
    "tokenizer = AutoTokenizer.from_pretrained(\"emilyalsentzer/Bio_ClinicalBERT\")\n",
    "model = AutoModel.from_pretrained(\"emilyalsentzer/Bio_ClinicalBERT\")\n",
    "\n",
    "# Generate embeddings for EHR and SNOMED texts\n",
    "# ehr_embeddings = generate_embeddings(ehr_texts, tokenizer, model)\n",
    "snomed_embeddings = generate_embeddings(snomed_texts, tokenizer, model)\n",
    "print ( type(snomed_embeddings))\n",
    "# Verify the shape of the embeddings\n",
    "# print(\"EHR Embeddings Shape:\", ehr_embeddings.shape)\n",
    "print(\"SNOMED Embeddings Shape:\", snomed_embeddings.shape)\n",
    "\n",
    "# Save embeddings to files\n",
    "# np.save(\"../data/ehr/ehr_embeddings.npy\", ehr_embeddings)\n",
    "# np.save(\"../data/snomed/snomed_embeddings.npy\", snomed_embeddings)"
   ]
  },
  {
   "cell_type": "code",
   "execution_count": 7,
   "id": "0a12f3a9",
   "metadata": {},
   "outputs": [],
   "source": [
    "from sklearn.metrics.pairwise import cosine_similarity\n",
    "def find_closest_match(query_vector, candidate_vectors):\n",
    "    \"\"\"\n",
    "    Find the closest SNOMED embedding to the given EHR embedding using cosine similarity.\n",
    "    \"\"\"\n",
    "    # Compute cosine similarity between the EHR embedding and all SNOMED embeddings\n",
    "    similarities = cosine_similarity(query_vector.reshape(1, -1), candidate_vectors)\n",
    "    # print(similarities)\n",
    "    # Get the index of the closest SNOMED embedding\n",
    "    closest_index = np.argmax(similarities)\n",
    "    return closest_index\n"
   ]
  },
  {
   "cell_type": "code",
   "execution_count": 9,
   "id": "9c8f0729",
   "metadata": {},
   "outputs": [
    {
     "name": "stdout",
     "output_type": "stream",
     "text": [
      "EHR Embeddings Shape: (1000, 768)\n",
      "SNOMED Embeddings Shape: (100, 768)\n"
     ]
    }
   ],
   "source": [
    "# Load EHR embeddings\n",
    "import numpy as np\n",
    "ehr_embeddings = np.load(\"../data/ehr/ehr_embeddings.npy\")\n",
    "\n",
    "# Load SNOMED embeddings\n",
    "snomed_embeddings = np.load(\"../data/snomed/snomed_embeddings.npy\")\n",
    "\n",
    "# Print their shapes to verify\n",
    "print(\"EHR Embeddings Shape:\", ehr_embeddings.shape)\n",
    "print(\"SNOMED Embeddings Shape:\", snomed_embeddings.shape)"
   ]
  },
  {
   "cell_type": "code",
   "execution_count": 10,
   "id": "bcf79a45",
   "metadata": {},
   "outputs": [
    {
     "name": "stdout",
     "output_type": "stream",
     "text": [
      "EHR Embeddings Shape: (1000, 768)\n",
      "SNOMED Embeddings Shape: (100, 768)\n"
     ]
    }
   ],
   "source": [
    "print(\"EHR Embeddings Shape:\", ehr_embeddings.shape)\n",
    "print(\"SNOMED Embeddings Shape:\", snomed_embeddings.shape)\n",
    "\n"
   ]
  },
  {
   "cell_type": "code",
   "execution_count": null,
   "id": "8936e589",
   "metadata": {},
   "outputs": [],
   "source": [
    "print (ehr_texts[1])\n",
    "print (snomed_texts[9])\n",
    "# print (ehr_embeddings[1])\n",
    "# print (snomed_embeddings[9])\n",
    "e=ehr_embeddings[1].reshape(1, -1)\n",
    "s=snomed_embeddings[9].reshape(1, -1)\n",
    "result=cosine_similarity(e, s)\n",
    "print (result)"
   ]
  },
  {
   "cell_type": "code",
   "execution_count": null,
   "id": "e0104d04",
   "metadata": {},
   "outputs": [],
   "source": [
    "for i in range(5):  # Adjust this number if you want more or fewer texts\n",
    "    ehr_embedding = ehr_embeddings[i]  # Select the i-th EHR embedding\n",
    "    \n",
    "    # Find the closest matching SNOMED embedding\n",
    "    closest_index = find_closest_match(ehr_embedding, snomed_embeddings)\n",
    "    \n",
    "    # Print the EHR text and the matching SNOMED text\n",
    "    print(f\"EHR Text: {ehr_texts[i]}\")\n",
    "    print(f\"ClosestIndex:{closest_index}\")\n",
    "    print(f\"Closest SNOMED Text: {snomed_texts[closest_index]}\")\n",
    "    print(\"-\" * 50)  # Separator for readability\n"
   ]
  },
  {
   "cell_type": "code",
   "execution_count": null,
   "id": "04d938b5",
   "metadata": {},
   "outputs": [
    {
     "name": "stdout",
     "output_type": "stream",
     "text": [
      "2.5.7\n"
     ]
    }
   ],
   "source": [
    "import pymilvus\n",
    "print(pymilvus.__version__)\n",
    "\n"
   ]
  },
  {
   "cell_type": "code",
   "execution_count": 3,
   "id": "82dd5bdf",
   "metadata": {},
   "outputs": [],
   "source": [
    "from pymilvus import MilvusClient\n",
    "\n",
    "client = MilvusClient(\"milvus_demo.db\")"
   ]
  },
  {
   "cell_type": "code",
   "execution_count": 21,
   "id": "91bc3c54",
   "metadata": {},
   "outputs": [
    {
     "name": "stdout",
     "output_type": "stream",
     "text": [
      "Data has 100 entities, each with fields:  dict_keys(['id', 'vector', 'text', 'source'])\n",
      "Vector dim: 768\n",
      "<class 'list'>\n",
      "<class 'list'>\n"
     ]
    }
   ],
   "source": [
    "import random\n",
    "\n",
    "# Text strings to search from.\n",
    "docs = [\n",
    "    \"Artificial intelligence was founded as an academic discipline in 1956.\",\n",
    "    \"Alan Turing was the first person to conduct substantial research in AI.\",\n",
    "    \"Born in Maida Vale, London, Turing was raised in southern England.\",\n",
    "]\n",
    "# Use fake representation with random vectors (768 dimension).\n",
    "vectors = [[random.uniform(-1, 1) for _ in range(768)] for _ in docs]\n",
    "# data = [\n",
    "#     {\"id\": i, \"vector\": vectors[i], \"text\": docs[i], \"source\": \"history\"}\n",
    "#     for i in range(len(vectors))\n",
    "# ]\n",
    "\n",
    "# vector_list = vector.tolist()\n",
    "data = [\n",
    "    {\"id\": i, \"vector\": snomed_embeddings[i], \"text\": \"\", \"source\": \"history\"}\n",
    "    for i in range(len(snomed_embeddings))\n",
    "]\n",
    "\n",
    "\n",
    "print(\"Data has\", len(data), \"entities, each with fields: \", data[0].keys())\n",
    "print(\"Vector dim:\", len(data[0][\"vector\"]))\n",
    "\n",
    "print(type(data))\n",
    "print (type(vectors))"
   ]
  },
  {
   "cell_type": "code",
   "execution_count": 22,
   "id": "d2ac1fa9",
   "metadata": {},
   "outputs": [
    {
     "name": "stdout",
     "output_type": "stream",
     "text": [
      "<class 'numpy.ndarray'>\n",
      "{'insert_count': 100, 'ids': [0, 1, 2, 3, 4, 5, 6, 7, 8, 9, 10, 11, 12, 13, 14, 15, 16, 17, 18, 19, 20, 21, 22, 23, 24, 25, 26, 27, 28, 29, 30, 31, 32, 33, 34, 35, 36, 37, 38, 39, 40, 41, 42, 43, 44, 45, 46, 47, 48, 49, 50, 51, 52, 53, 54, 55, 56, 57, 58, 59, 60, 61, 62, 63, 64, 65, 66, 67, 68, 69, 70, 71, 72, 73, 74, 75, 76, 77, 78, 79, 80, 81, 82, 83, 84, 85, 86, 87, 88, 89, 90, 91, 92, 93, 94, 95, 96, 97, 98, 99]}\n"
     ]
    }
   ],
   "source": [
    "if client.has_collection(collection_name=\"demo_collection\"):\n",
    "    client.drop_collection(collection_name=\"demo_collection\")\n",
    "client.create_collection(\n",
    "    collection_name=\"demo_collection\",\n",
    "    dimension=768,  # The vectors we will use in this demo has 768 dimensions\n",
    ")\n",
    "print (type(snomed_embeddings))\n",
    "res = client.insert(collection_name=\"demo_collection\", data=data)\n",
    "\n",
    "print(res)"
   ]
  },
  {
   "cell_type": "code",
   "execution_count": null,
   "id": "db4066f8",
   "metadata": {},
   "outputs": [
    {
     "name": "stdout",
     "output_type": "stream",
     "text": [
      "<class 'list'>\n"
     ]
    }
   ],
   "source": [
    "print(type(client.list_collections()))\n"
   ]
  },
  {
   "cell_type": "code",
   "execution_count": 28,
   "id": "9d4931fb",
   "metadata": {},
   "outputs": [
    {
     "name": "stdout",
     "output_type": "stream",
     "text": [
      "{'id': 0, 'text': '', 'vector': [np.float32(0.3405214), np.float32(0.36036423), np.float32(-0.22068807), np.float32(-0.14411251), np.float32(-0.25699162), np.float32(0.08009442), np.float32(0.44356662), np.float32(-0.4560798), np.float32(0.46227187), np.float32(0.014782628), np.float32(0.05373027), np.float32(0.3938559), np.float32(-0.3395977), np.float32(-0.33930612), np.float32(-0.15733853), np.float32(0.7126083), np.float32(-0.27955377), np.float32(0.05432962), np.float32(0.17572357), np.float32(-0.45829368), np.float32(0.22844367), np.float32(-0.14025429), np.float32(-0.25017694), np.float32(-0.11067615), np.float32(-0.64208275), np.float32(-0.29416597), np.float32(0.7285691), np.float32(0.7012455), np.float32(-0.19706284), np.float32(0.5994214), np.float32(-0.04877547), np.float32(0.23671852), np.float32(0.028442131), np.float32(0.69277555), np.float32(-0.5860519), np.float32(0.41877043), np.float32(-0.18204178), np.float32(-0.090329945), np.float32(0.24416728), np.float32(-0.13480504), np.float32(-0.021943772), np.float32(0.2980176), np.float32(0.59031), np.float32(0.24670817), np.float32(0.4422134), np.float32(-0.7136509), np.float32(-0.10143312), np.float32(0.1380575), np.float32(-0.4592008), np.float32(-0.3651335), np.float32(-0.36414015), np.float32(0.5251473), np.float32(0.45927024), np.float32(-0.69898105), np.float32(-0.30877137), np.float32(-0.5201905), np.float32(-0.1005944), np.float32(0.04651265), np.float32(0.2331386), np.float32(0.4801499), np.float32(0.034862295), np.float32(-0.17678599), np.float32(0.37123722), np.float32(-0.17398775), np.float32(-0.015571967), np.float32(0.30391207), np.float32(0.3067423), np.float32(0.07468034), np.float32(0.278148), np.float32(-0.55618024), np.float32(-0.1516793), np.float32(0.013940669), np.float32(-0.02106421), np.float32(-0.114090085), np.float32(0.4333463), np.float32(0.3653737), np.float32(0.6734283), np.float32(-0.0014894537), np.float32(0.10494749), np.float32(0.5022869), np.float32(-0.0056068343), np.float32(-0.028110389), np.float32(0.19774806), np.float32(0.40427175), np.float32(-0.41896978), np.float32(-0.29934597), np.float32(0.32266012), np.float32(-0.44816184), np.float32(-0.7080356), np.float32(0.055763535), np.float32(-0.0924711), np.float32(-0.8021668), np.float32(0.014536557), np.float32(-0.14922908), np.float32(0.23816052), np.float32(0.24187943), np.float32(-0.32426065), np.float32(0.72064185), np.float32(0.32253417), np.float32(-0.050599504), np.float32(-0.19911543), np.float32(-0.008249518), np.float32(0.46816194), np.float32(-0.43802175), np.float32(-0.10511045), np.float32(-0.044497695), np.float32(0.05786723), np.float32(-0.19434722), np.float32(0.010067003), np.float32(0.49398148), np.float32(-0.37907597), np.float32(-0.17391871), np.float32(-0.32819426), np.float32(-0.3297995), np.float32(-0.16454385), np.float32(-0.49422717), np.float32(0.06852284), np.float32(0.24655949), np.float32(0.3829547), np.float32(-0.31829727), np.float32(-0.38308468), np.float32(0.17524537), np.float32(0.5567925), np.float32(-0.1596509), np.float32(-0.29586986), np.float32(0.72841656), np.float32(-0.003548016), np.float32(-0.09813847), np.float32(0.025142925), np.float32(0.12837766), np.float32(-0.73570096), np.float32(-0.0019332865), np.float32(0.45353457), np.float32(-0.20631665), np.float32(0.16265495), np.float32(0.605613), np.float32(-0.030373752), np.float32(0.10247871), np.float32(-0.5770895), np.float32(0.10541704), np.float32(-0.34856087), np.float32(0.29311645), np.float32(0.014304114), np.float32(-0.1163626), np.float32(-0.01966032), np.float32(-0.13384023), np.float32(-0.5491155), np.float32(-0.17277649), np.float32(0.20026776), np.float32(-0.61042196), np.float32(-0.2611132), np.float32(-0.3445634), np.float32(-0.070871286), np.float32(-0.13949893), np.float32(0.2223242), np.float32(0.13160273), np.float32(-0.0370807), np.float32(-0.10602656), np.float32(0.031022316), np.float32(-0.08825944), np.float32(0.0012872869), np.float32(0.70516336), np.float32(0.03677615), np.float32(0.040608097), np.float32(0.41779166), np.float32(-0.6019674), np.float32(-0.38267046), np.float32(-0.011645568), np.float32(-0.34755585), np.float32(0.07175313), np.float32(-0.3288145), np.float32(-0.0089460695), np.float32(-0.5956893), np.float32(0.748858), np.float32(0.26693466), np.float32(-0.016805459), np.float32(0.19884068), np.float32(-0.33218062), np.float32(-0.46133208), np.float32(-0.004866894), np.float32(-0.012108956), np.float32(0.24011861), np.float32(0.55051297), np.float32(-0.608741), np.float32(-0.07724282), np.float32(0.44080117), np.float32(0.33705586), np.float32(-0.006752933), np.float32(0.14434077), np.float32(0.362054), np.float32(0.29328442), np.float32(-0.3183944), np.float32(0.08561177), np.float32(-0.4831408), np.float32(0.46160692), np.float32(-0.18902773), np.float32(-0.2065885), np.float32(-0.08815932), np.float32(-0.16855942), np.float32(0.25748003), np.float32(0.3662063), np.float32(0.07117968), np.float32(-0.29523364), np.float32(0.100493886), np.float32(0.018744087), np.float32(-0.44071868), np.float32(0.089473695), np.float32(-0.22543044), np.float32(0.5498413), np.float32(-0.2735623), np.float32(-0.7151133), np.float32(-0.024732448), np.float32(0.0038169925), np.float32(0.39937118), np.float32(-0.36201575), np.float32(-0.29816025), np.float32(0.12073202), np.float32(0.02335554), np.float32(-0.18769707), np.float32(0.26453155), np.float32(0.13049857), np.float32(0.24821387), np.float32(-0.025218459), np.float32(0.32466695), np.float32(-0.5312345), np.float32(0.1660407), np.float32(0.23138386), np.float32(0.5023448), np.float32(-0.21052201), np.float32(0.0695629), np.float32(0.654298), np.float32(-0.12452922), np.float32(0.052062653), np.float32(-0.704554), np.float32(0.04105765), np.float32(0.022419255), np.float32(0.13908619), np.float32(-0.18323013), np.float32(-0.366107), np.float32(-0.060497012), np.float32(-0.44693473), np.float32(-0.46470258), np.float32(0.40578008), np.float32(-0.0034847064), np.float32(-0.5353807), np.float32(-0.0187919), np.float32(0.48360154), np.float32(0.028422099), np.float32(0.026487298), np.float32(0.2917741), np.float32(0.18616803), np.float32(0.47032842), np.float32(-0.317882), np.float32(-0.27434626), np.float32(-0.0284355), np.float32(-0.5529722), np.float32(-0.23544252), np.float32(0.45319402), np.float32(-0.04582545), np.float32(-0.21333595), np.float32(0.25534448), np.float32(-0.043549523), np.float32(0.038669467), np.float32(-0.0296162), np.float32(-0.24538042), np.float32(0.29706997), np.float32(-0.35409808), np.float32(0.5502563), np.float32(-0.66102624), np.float32(-0.027295742), np.float32(-0.26021945), np.float32(-0.41465503), np.float32(0.17843258), np.float32(0.07406273), np.float32(-0.32145563), np.float32(-0.14408408), np.float32(-0.05433337), np.float32(0.34182438), np.float32(-0.065016575), np.float32(-0.47747666), np.float32(0.059801985), np.float32(0.5536496), np.float32(-0.11305445), np.float32(0.22798058), np.float32(-0.16504021), np.float32(0.33193412), np.float32(0.47247183), np.float32(0.09489289), np.float32(-0.1357925), np.float32(0.20944627), np.float32(0.16863437), np.float32(-0.03701163), np.float32(-0.5456616), np.float32(0.13943097), np.float32(0.04236446), np.float32(0.45016456), np.float32(-0.38030368), np.float32(0.56622916), np.float32(0.03582662), np.float32(0.43005788), np.float32(-0.048847284), np.float32(-0.12643933), np.float32(0.6081171), np.float32(0.17877643), np.float32(-0.15302342), np.float32(0.42021233), np.float32(-0.0048219296), np.float32(0.1616367), np.float32(0.070937365), np.float32(0.29462743), np.float32(0.11179224), np.float32(-0.85983), np.float32(0.21010314), np.float32(0.07784072), np.float32(-0.6959915), np.float32(-0.32565942), np.float32(0.0017332397), np.float32(0.32532963), np.float32(0.10977636), np.float32(0.23699732), np.float32(0.39532763), np.float32(-0.15798405), np.float32(0.021430748), np.float32(-0.033386655), np.float32(-0.41203895), np.float32(0.07165629), np.float32(-0.23047239), np.float32(-0.041278854), np.float32(0.0819916), np.float32(0.08610616), np.float32(0.12150034), np.float32(0.2171341), np.float32(-0.6143177), np.float32(-0.25280783), np.float32(-0.53109044), np.float32(0.04794813), np.float32(-0.40990603), np.float32(-0.066292636), np.float32(-0.0067107826), np.float32(0.6902399), np.float32(0.049836375), np.float32(0.12732674), np.float32(-0.35887104), np.float32(-0.12572658), np.float32(0.5782043), np.float32(-0.38500163), np.float32(-0.24124952), np.float32(-0.22612882), np.float32(0.3958807), np.float32(-0.34515926), np.float32(-0.20404626), np.float32(0.44234806), np.float32(-0.18155997), np.float32(0.52203304), np.float32(-0.13998465), np.float32(-0.45670995), np.float32(-0.05391702), np.float32(-0.26645008), np.float32(-0.051596485), np.float32(-0.13871522), np.float32(-0.14740297), np.float32(0.3005435), np.float32(0.045232583), np.float32(-0.32572898), np.float32(0.080375195), np.float32(0.5682541), np.float32(0.3373844), np.float32(-0.06763575), np.float32(-0.22007927), np.float32(0.16500372), np.float32(0.17127587), np.float32(-0.15092292), np.float32(0.41128796), np.float32(-0.32103193), np.float32(-0.24171808), np.float32(0.29080385), np.float32(-0.3525976), np.float32(0.15116245), np.float32(-0.5806556), np.float32(-0.36266333), np.float32(-0.68359345), np.float32(-0.19971503), np.float32(0.5149398), np.float32(-0.54735416), np.float32(0.15952468), np.float32(-0.025121948), np.float32(0.17493254), np.float32(0.23048776), np.float32(0.42365152), np.float32(-0.3423813), np.float32(0.047166217), np.float32(-0.010993356), np.float32(-0.044444386), np.float32(-0.5494286), np.float32(-0.12051792), np.float32(0.15477532), np.float32(-0.06444547), np.float32(-0.10486997), np.float32(-0.1723024), np.float32(-0.3353584), np.float32(-0.42682666), np.float32(-0.24189039), np.float32(0.045788042), np.float32(0.5093871), np.float32(0.10783825), np.float32(0.40131077), np.float32(-0.33701637), np.float32(0.046173334), np.float32(0.0025663667), np.float32(-0.5410724), np.float32(-0.10041218), np.float32(-0.5644008), np.float32(0.21062727), np.float32(0.6549551), np.float32(-0.39166713), np.float32(0.008972331), np.float32(0.45926768), np.float32(0.17300761), np.float32(0.38639024), np.float32(0.35853657), np.float32(0.43096232), np.float32(0.29111108), np.float32(0.11145798), np.float32(-0.118173026), np.float32(0.18795303), np.float32(0.047344953), np.float32(-0.4147161), np.float32(-0.06693272), np.float32(-0.07797328), np.float32(0.63162756), np.float32(-0.38219798), np.float32(-0.06530071), np.float32(0.49518502), np.float32(-0.055049717), np.float32(0.29043153), np.float32(0.12432845), np.float32(-0.35930634), np.float32(0.008810627), np.float32(-0.31011367), np.float32(-0.20499887), np.float32(-0.26699734), np.float32(-0.35382682), np.float32(-0.3517414), np.float32(-0.0635004), np.float32(-0.32746708), np.float32(0.3626747), np.float32(0.19295925), np.float32(-0.0820836), np.float32(-0.027237337), np.float32(0.32509205), np.float32(-0.14312804), np.float32(0.5714239), np.float32(-0.23593748), np.float32(0.26671204), np.float32(0.41604874), np.float32(-0.3850323), np.float32(-0.08565438), np.float32(-0.077568784), np.float32(-0.5290786), np.float32(-0.08979103), np.float32(0.12729676), np.float32(0.2811069), np.float32(-0.29160857), np.float32(0.3658726), np.float32(-0.04516906), np.float32(-0.0695784), np.float32(0.27383283), np.float32(0.29203254), np.float32(-0.37319976), np.float32(0.09640485), np.float32(0.22272432), np.float32(-0.8190252), np.float32(0.89945614), np.float32(0.4347152), np.float32(-0.11804135), np.float32(-0.124426946), np.float32(-0.34495693), np.float32(-0.19074596), np.float32(0.30403048), np.float32(0.105441146), np.float32(0.22896858), np.float32(0.093765), np.float32(-0.18250541), np.float32(0.4672276), np.float32(0.27289745), np.float32(-0.089204445), np.float32(0.63347703), np.float32(-0.021871774), np.float32(0.4159017), np.float32(-0.51262623), np.float32(0.04080265), np.float32(0.02858856), np.float32(-0.7392335), np.float32(-0.28454122), np.float32(0.18656054), np.float32(0.3912277), np.float32(-0.3929894), np.float32(-0.38128772), np.float32(0.20483781), np.float32(-0.22794697), np.float32(-0.32666516), np.float32(-0.02258953), np.float32(-0.016586673), np.float32(0.42468798), np.float32(-0.66105396), np.float32(0.21745962), np.float32(-0.24228734), np.float32(0.58171713), np.float32(0.2351141), np.float32(-0.054117177), np.float32(-0.16761024), np.float32(-0.7502169), np.float32(0.2336715), np.float32(0.4277608), np.float32(-0.359212), np.float32(0.10747986), np.float32(-0.35400182), np.float32(0.6941551), np.float32(0.11060172), np.float32(0.058621243), np.float32(0.70869935), np.float32(-0.35811883), np.float32(0.2997714), np.float32(0.7724252), np.float32(0.060776703), np.float32(0.2011831), np.float32(-0.25384197), np.float32(0.22092035), np.float32(0.60056823), np.float32(-0.63456345), np.float32(-0.028543513), np.float32(0.12194156), np.float32(-0.49998656), np.float32(0.16143234), np.float32(-0.0021989238), np.float32(0.38445377), np.float32(0.15012412), np.float32(0.22189012), np.float32(0.0739419), np.float32(0.3147961), np.float32(0.31017286), np.float32(-0.32467467), np.float32(0.5780773), np.float32(-0.40474367), np.float32(-0.2933521), np.float32(0.4023736), np.float32(-0.055521253), np.float32(0.18093485), np.float32(-0.1197494), np.float32(0.48584843), np.float32(0.80605346), np.float32(0.12526336), np.float32(-0.2931871), np.float32(0.078740045), np.float32(-0.18988399), np.float32(0.35417598), np.float32(-0.71822715), np.float32(-10.689814), np.float32(-0.2597851), np.float32(-0.20910205), np.float32(0.24930462), np.float32(-0.09354636), np.float32(0.13826981), np.float32(0.5564812), np.float32(0.07466149), np.float32(-0.21527971), np.float32(0.4352889), np.float32(-0.24002169), np.float32(-0.5080677), np.float32(-0.09255691), np.float32(0.260372), np.float32(0.005164708), np.float32(-0.0012616911), np.float32(0.339742), np.float32(0.3176637), np.float32(0.26576298), np.float32(0.23848206), np.float32(0.15642665), np.float32(-0.025570862), np.float32(-0.15168907), np.float32(-0.29696843), np.float32(-0.30313948), np.float32(-0.0781037), np.float32(-0.041112628), np.float32(0.39814618), np.float32(-0.062430944), np.float32(-0.14393127), np.float32(-0.5064965), np.float32(0.0031696043), np.float32(-0.66412556), np.float32(0.16072991), np.float32(0.18117122), np.float32(-0.20566963), np.float32(-0.12390781), np.float32(0.3616138), np.float32(0.6550708), np.float32(-0.06489283), np.float32(0.005584679), np.float32(0.023146283), np.float32(0.19572233), np.float32(0.0035098642), np.float32(0.050391436), np.float32(-0.5372415), np.float32(0.23677352), np.float32(-0.74015063), np.float32(0.01807021), np.float32(0.042185303), np.float32(0.4400572), np.float32(0.55354184), np.float32(0.17932546), np.float32(0.26078203), np.float32(-0.16676457), np.float32(0.00848651), np.float32(-0.3837035), np.float32(0.15528408), np.float32(0.09429947), np.float32(0.0030694653), np.float32(0.042844877), np.float32(0.12626636), np.float32(0.25341326), np.float32(-0.2136344), np.float32(-0.35586327), np.float32(-0.07452422), np.float32(0.12904336), np.float32(0.18251352), np.float32(-0.3357633), np.float32(-0.26334476), np.float32(-0.22566457), np.float32(-0.171914), np.float32(0.107329264), np.float32(0.46713024), np.float32(0.50736386), np.float32(0.11112401), np.float32(0.16582802), np.float32(0.73068917), np.float32(0.14108242), np.float32(0.0480709), np.float32(-0.2332651), np.float32(-0.48946512), np.float32(0.4548275), np.float32(-0.44033688), np.float32(-0.011742384), np.float32(-0.51227057), np.float32(0.41297954), np.float32(0.1831458), np.float32(0.1175657), np.float32(-0.6242788), np.float32(0.025180487), np.float32(0.23654538), np.float32(0.042033236), np.float32(-0.19632532), np.float32(-0.07671974), np.float32(-0.5144561), np.float32(0.19463703), np.float32(0.14511676), np.float32(-0.057231802), np.float32(-0.15264304), np.float32(0.009413751), np.float32(0.18353646), np.float32(0.18027316), np.float32(-0.5631223), np.float32(0.048038315), np.float32(0.44184563), np.float32(-0.026510853), np.float32(0.26326656), np.float32(-0.047344837), np.float32(-0.28907317), np.float32(0.40838602), np.float32(-0.1981987), np.float32(-0.16730173), np.float32(-0.021546854), np.float32(0.25003383), np.float32(0.24977192), np.float32(0.0127976155), np.float32(-0.8965804), np.float32(0.27408394), np.float32(-0.27409658), np.float32(0.31458357), np.float32(0.47126752), np.float32(0.25510818), np.float32(-0.10712873), np.float32(0.46673083), np.float32(-0.32956046), np.float32(0.855274), np.float32(-0.5152665), np.float32(0.51729083), np.float32(0.14475353), np.float32(-0.22883059), np.float32(0.009272579), np.float32(0.107900076), np.float32(0.12414831), np.float32(0.42595997), np.float32(0.28774482), np.float32(0.49645096), np.float32(0.2155471), np.float32(-0.11609314), np.float32(-0.42328402), np.float32(0.08365695), np.float32(0.47208953), np.float32(0.13113362), np.float32(-0.07742642), np.float32(0.111772716), np.float32(0.30165052), np.float32(-0.24335276), np.float32(-0.018814562), np.float32(-0.13671002), np.float32(0.2526069), np.float32(-0.46073368), np.float32(0.06500262), np.float32(-0.0207607), np.float32(-0.19017358), np.float32(0.40733448), np.float32(0.3262173), np.float32(0.5256056), np.float32(0.10271164), np.float32(-1.0036845), np.float32(0.26108116), np.float32(-0.5290041), np.float32(0.43460926), np.float32(-0.23536718), np.float32(0.7362715), np.float32(0.10677882), np.float32(0.017959835), np.float32(-0.0574904), np.float32(0.21016765), np.float32(0.0357038), np.float32(0.3496396), np.float32(-0.26130453), np.float32(0.29510987), np.float32(0.2981605), np.float32(-0.5671371), np.float32(0.0333911), np.float32(-0.18739426), np.float32(0.008147477), np.float32(0.15980399), np.float32(-0.19802596), np.float32(-0.12444774), np.float32(0.24660908), np.float32(0.32545778), np.float32(-0.5642956), np.float32(-0.053566717), np.float32(0.0055630924), np.float32(0.05241436), np.float32(-0.26581517), np.float32(-0.059032287), np.float32(-0.065720774), np.float32(-0.12723416), np.float32(-0.08420903), np.float32(-0.10414097), np.float32(-0.21316299), np.float32(-0.112312965), np.float32(0.30176324), np.float32(0.13492987), np.float32(0.35448897), np.float32(-0.47843122), np.float32(-0.1606408), np.float32(-0.11281347), np.float32(-0.4874782), np.float32(-0.4180527), np.float32(0.16689505), np.float32(-0.4431403), np.float32(0.093213506), np.float32(-0.37074277), np.float32(0.43404424), np.float32(0.13634507), np.float32(-0.053823695), np.float32(0.33508995), np.float32(0.10768124)]}\n",
      "{'id': 2, 'text': '', 'vector': [np.float32(0.32773605), np.float32(-0.019050855), np.float32(-0.38148448), np.float32(0.43142208), np.float32(-0.19491754), np.float32(0.115233615), np.float32(0.1743933), np.float32(-0.51874185), np.float32(0.7798146), np.float32(0.45730025), np.float32(0.24505876), np.float32(0.23602477), np.float32(-0.105407596), np.float32(-0.68649054), np.float32(-0.07822433), np.float32(0.37932557), np.float32(-0.812568), np.float32(-0.0784972), np.float32(0.18430038), np.float32(-0.28855374), np.float32(0.52996117), np.float32(0.15999615), np.float32(-0.10951815), np.float32(-0.26733407), np.float32(-0.4628481), np.float32(-0.26202002), np.float32(0.48100734), np.float32(0.69097626), np.float32(0.23868847), np.float32(0.9514628), np.float32(-0.21508622), np.float32(0.21799101), np.float32(0.27354047), np.float32(0.55613977), np.float32(-0.1889067), np.float32(-0.02794834), np.float32(-0.055106442), np.float32(-0.09058268), np.float32(0.49461973), np.float32(0.020366289), np.float32(-0.025268545), np.float32(0.23087826), np.float32(0.7659336), np.float32(-0.443382), np.float32(0.08882965), np.float32(-0.3766775), np.float32(0.05985077), np.float32(0.3339729), np.float32(-0.41754177), np.float32(-0.532803), np.float32(-0.2333007), np.float32(0.77690566), np.float32(0.19731788), np.float32(-1.0833284), np.float32(-0.5952467), np.float32(-0.6717378), np.float32(0.054582786), np.float32(-0.4902865), np.float32(0.5441171), np.float32(0.6491823), np.float32(0.024410507), np.float32(-0.60120714), np.float32(0.6098794), np.float32(-0.17644534), np.float32(0.07120289), np.float32(0.2989953), np.float32(0.22535251), np.float32(-0.2877179), np.float32(0.5625997), np.float32(-0.8665513), np.float32(-0.08409672), np.float32(-0.529775), np.float32(-0.07327228), np.float32(-0.07037601), np.float32(0.09589135), np.float32(0.4530004), np.float32(0.6938498), np.float32(-0.037964694), np.float32(0.24425705), np.float32(0.27373803), np.float32(0.17332247), np.float32(-0.148746), np.float32(-0.06536267), np.float32(0.35881397), np.float32(-0.48573378), np.float32(-0.47199905), np.float32(0.37937838), np.float32(-0.6282402), np.float32(-1.432696), np.float32(-0.37614277), np.float32(-0.25410646), np.float32(-1.2880473), np.float32(0.1719402), np.float32(-0.44182298), np.float32(0.06150065), np.float32(0.45772746), np.float32(-0.570987), np.float32(0.3004547), np.float32(0.17325225), np.float32(-0.06317979), np.float32(-0.3247569), np.float32(0.053387754), np.float32(0.55164367), np.float32(-0.15728809), np.float32(-0.16646038), np.float32(-0.1575329), np.float32(-0.40242818), np.float32(-0.3872316), np.float32(0.4670395), np.float32(0.8774304), np.float32(0.12909539), np.float32(-0.0078382995), np.float32(-0.3655366), np.float32(-0.17144595), np.float32(-0.40629804), np.float32(-0.46888518), np.float32(0.3347807), np.float32(0.29200774), np.float32(0.45277274), np.float32(0.016973672), np.float32(-0.6432711), np.float32(-0.22795016), np.float32(0.26453662), np.float32(0.23379603), np.float32(-0.5736897), np.float32(0.38579774), np.float32(-0.18888836), np.float32(-0.44483382), np.float32(0.07314101), np.float32(-0.06547335), np.float32(-0.85640067), np.float32(-0.1761375), np.float32(0.4978116), np.float32(-0.33369768), np.float32(0.19559354), np.float32(0.60248584), np.float32(0.086424306), np.float32(0.05833122), np.float32(-0.579268), np.float32(0.31913373), np.float32(0.17365998), np.float32(0.18494175), np.float32(-0.018250024), np.float32(-0.3173409), np.float32(-0.047849912), np.float32(-0.20742413), np.float32(-0.20950532), np.float32(-0.10788932), np.float32(-0.25871617), np.float32(-0.6561688), np.float32(-0.19469993), np.float32(-0.4483888), np.float32(-0.1260823), np.float32(0.035470113), np.float32(-0.091141574), np.float32(-0.18302526), np.float32(0.02563196), np.float32(-0.46858364), np.float32(0.06065431), np.float32(0.46299115), np.float32(-0.035040732), np.float32(0.71067023), np.float32(0.052688684), np.float32(0.11825938), np.float32(0.44859335), np.float32(-0.45112994), np.float32(-0.78326607), np.float32(0.17690594), np.float32(-0.8395614), np.float32(0.191744), np.float32(-0.48516902), np.float32(-0.018743431), np.float32(-1.0606999), np.float32(1.2095221), np.float32(0.28122166), np.float32(-0.25121388), np.float32(-0.07960401), np.float32(-0.045332965), np.float32(-0.42545956), np.float32(-0.0057774074), np.float32(0.9053917), np.float32(0.44803742), np.float32(0.68345845), np.float32(-0.80405396), np.float32(-0.115558736), np.float32(0.79673654), np.float32(0.1982581), np.float32(0.013630237), np.float32(0.19582255), np.float32(0.58514667), np.float32(0.19889544), np.float32(-0.3932063), np.float32(0.090510584), np.float32(0.13864708), np.float32(0.36888415), np.float32(-0.121530056), np.float32(0.024186933), np.float32(0.16870882), np.float32(-0.39465067), np.float32(0.20125243), np.float32(0.4955545), np.float32(-0.12166196), np.float32(-0.2769811), np.float32(-0.23856357), np.float32(-0.021643633), np.float32(-0.59546494), np.float32(0.20285909), np.float32(0.058414847), np.float32(0.6795676), np.float32(0.06319823), np.float32(0.36966613), np.float32(0.26418865), np.float32(-0.08101923), np.float32(0.54288733), np.float32(0.24730936), np.float32(-0.026384754), np.float32(0.6943603), np.float32(-0.010061897), np.float32(-0.40962997), np.float32(0.45566627), np.float32(0.20393242), np.float32(-0.17226756), np.float32(-0.15543222), np.float32(0.6712563), np.float32(-0.17435943), np.float32(0.5426536), np.float32(0.0055210856), np.float32(0.34070528), np.float32(0.04494243), np.float32(0.08618891), np.float32(0.24710527), np.float32(-0.34920734), np.float32(0.26404428), np.float32(-0.98234516), np.float32(0.16142464), np.float32(0.08360257), np.float32(0.14932756), np.float32(-0.22674596), np.float32(-0.1785001), np.float32(-0.33693945), np.float32(-0.35576642), np.float32(-0.14423461), np.float32(0.91294223), np.float32(-0.034293365), np.float32(-0.39173144), np.float32(0.12090588), np.float32(0.24724956), np.float32(0.091086656), np.float32(-0.45811284), np.float32(0.39246035), np.float32(0.006424405), np.float32(0.37403756), np.float32(-0.5125505), np.float32(-0.10479316), np.float32(-0.29073024), np.float32(-0.4503185), np.float32(0.22744553), np.float32(0.5503647), np.float32(-0.41238052), np.float32(-0.04823974), np.float32(0.31005287), np.float32(0.078481145), np.float32(0.054845814), np.float32(-0.23355685), np.float32(-0.30324832), np.float32(0.205758), np.float32(-0.89870656), np.float32(0.28574055), np.float32(-0.7868671), np.float32(-0.16071981), np.float32(-0.49452868), np.float32(-0.3245946), np.float32(-0.025013542), np.float32(-0.389259), np.float32(-0.3326748), np.float32(-0.26034883), np.float32(-0.23950522), np.float32(-0.0841326), np.float32(-0.082093604), np.float32(-0.5174289), np.float32(0.15750062), np.float32(0.6872055), np.float32(0.11414501), np.float32(0.35147983), np.float32(0.31018844), np.float32(0.30508372), np.float32(0.28867736), np.float32(-0.23818623), np.float32(-0.15810117), np.float32(0.12511681), np.float32(-0.20080365), np.float32(-0.15429951), np.float32(-0.29896268), np.float32(0.014473627), np.float32(0.071456544), np.float32(0.36367753), np.float32(-0.3588812), np.float32(0.40851673), np.float32(0.0016732474), np.float32(0.5825135), np.float32(0.08725429), np.float32(-0.0950356), np.float32(0.6436489), np.float32(0.3573738), np.float32(-0.03241539), np.float32(0.12889965), np.float32(0.12421812), np.float32(0.53458667), np.float32(0.34348983), np.float32(0.6247394), np.float32(0.25346643), np.float32(-0.7235747), np.float32(0.90370226), np.float32(0.22229542), np.float32(-0.5638645), np.float32(-0.53325874), np.float32(-0.060636576), np.float32(0.19667515), np.float32(0.21671546), np.float32(0.42629084), np.float32(0.005591834), np.float32(-0.49264938), np.float32(-0.056035727), np.float32(0.2788258), np.float32(-0.7949242), np.float32(-0.29315245), np.float32(0.28440845), np.float32(-0.10298058), np.float32(0.3574204), np.float32(0.18132693), np.float32(0.14057517), np.float32(-0.036051977), np.float32(-0.7040281), np.float32(-0.022796098), np.float32(-0.8982088), np.float32(0.20015983), np.float32(0.13341834), np.float32(-0.005724159), np.float32(0.63960826), np.float32(0.52393407), np.float32(0.38005015), np.float32(-0.09902498), np.float32(-0.45435005), np.float32(0.15338326), np.float32(0.6795516), np.float32(0.12812525), np.float32(-0.21305455), np.float32(-0.11761654), np.float32(0.50957435), np.float32(-0.05750002), np.float32(-0.3099407), np.float32(0.51208884), np.float32(-0.081711024), np.float32(1.2841558), np.float32(-0.004769536), np.float32(-0.7217358), np.float32(0.14305307), np.float32(-0.045778584), np.float32(0.36205375), np.float32(-0.4682159), np.float32(0.24898162), np.float32(0.25451848), np.float32(-0.1829202), np.float32(-0.28429008), np.float32(-0.3801779), np.float32(0.45570874), np.float32(0.18009351), np.float32(0.00016276517), np.float32(-0.2757262), np.float32(0.13668884), np.float32(-0.0945252), np.float32(0.005471784), np.float32(0.45063323), np.float32(-0.25189042), np.float32(-0.20365211), np.float32(-0.020722663), np.float32(-0.3033959), np.float32(0.054672234), np.float32(-0.20185828), np.float32(-0.42975), np.float32(-0.6654361), np.float32(0.022975903), np.float32(0.59647614), np.float32(-0.5923007), np.float32(0.6820472), np.float32(-0.13086586), np.float32(0.10770072), np.float32(0.0020978844), np.float32(0.20948504), np.float32(-0.33132052), np.float32(-0.39064464), np.float32(0.2932754), np.float32(0.19019336), np.float32(-0.12697586), np.float32(0.2792139), np.float32(0.032438062), np.float32(-0.3279646), np.float32(-0.34077543), np.float32(-0.3109172), np.float32(0.14525619), np.float32(-0.4240094), np.float32(0.24334127), np.float32(0.45492357), np.float32(0.36388588), np.float32(-0.030846454), np.float32(-0.005205959), np.float32(-0.1348553), np.float32(0.18187769), np.float32(0.19752803), np.float32(-0.55566406), np.float32(0.029686097), np.float32(0.00066823035), np.float32(0.26558354), np.float32(0.45743197), np.float32(-0.32696554), np.float32(-0.48175594), np.float32(-0.29550177), np.float32(-0.65080655), np.float32(0.38430426), np.float32(0.20093408), np.float32(0.2789377), np.float32(0.57097566), np.float32(0.23540232), np.float32(-0.054272756), np.float32(0.80109763), np.float32(-0.2970205), np.float32(-0.68761355), np.float32(0.06380032), np.float32(-0.10727954), np.float32(0.35602286), np.float32(-0.312375), np.float32(0.17020914), np.float32(0.26231673), np.float32(0.18684107), np.float32(-0.025531128), np.float32(-0.07016736), np.float32(-0.36924016), np.float32(-0.1504941), np.float32(-0.64236397), np.float32(-0.1485344), np.float32(0.20666799), np.float32(-0.20101108), np.float32(-0.1722861), np.float32(-0.4932596), np.float32(-0.67152923), np.float32(0.13885623), np.float32(-0.20732087), np.float32(-0.34202507), np.float32(0.09602783), np.float32(0.30393735), np.float32(0.04579209), np.float32(0.91959846), np.float32(-0.04055275), np.float32(0.30079886), np.float32(0.37555528), np.float32(-0.49256927), np.float32(0.15127899), np.float32(0.17795703), np.float32(-0.2896499), np.float32(-0.024320114), np.float32(-0.14618866), np.float32(0.44254354), np.float32(-0.1296673), np.float32(0.2978713), np.float32(0.095049776), np.float32(-0.5897391), np.float32(0.36861312), np.float32(0.3200522), np.float32(-0.35087934), np.float32(0.47822288), np.float32(0.0016212943), np.float32(-1.1653564), np.float32(0.5726565), np.float32(0.7623712), np.float32(0.0759534), np.float32(-0.32791206), np.float32(-0.05849369), np.float32(-0.33581206), np.float32(0.118762575), np.float32(0.14938685), np.float32(-0.11064524), np.float32(0.33318147), np.float32(-0.32436794), np.float32(0.56291974), np.float32(0.08590855), np.float32(-0.046910014), np.float32(0.61849475), np.float32(-0.21894145), np.float32(0.31554684), np.float32(-0.7012446), np.float32(-0.4092944), np.float32(-0.071734734), np.float32(-0.74694324), np.float32(-0.2181023), np.float32(0.33619842), np.float32(5.511159e-05), np.float32(-0.66737765), np.float32(-0.5496944), np.float32(0.055191472), np.float32(0.062366456), np.float32(0.15038319), np.float32(-0.09004112), np.float32(-0.5713795), np.float32(-0.09122273), np.float32(-0.44437668), np.float32(0.08642237), np.float32(0.13961071), np.float32(0.8943797), np.float32(0.20433354), np.float32(0.25033143), np.float32(-0.4915702), np.float32(-0.28938627), np.float32(0.8007805), np.float32(0.31388268), np.float32(-0.25791004), np.float32(0.19854726), np.float32(-0.022628468), np.float32(0.34968245), np.float32(0.12238329), np.float32(-0.28045678), np.float32(0.91008776), np.float32(-0.44551325), np.float32(0.44566318), np.float32(0.8417738), np.float32(0.24085271), np.float32(-0.12329679), np.float32(-0.2426131), np.float32(-0.047785584), np.float32(0.76070595), np.float32(-0.47104457), np.float32(0.27104548), np.float32(-0.050935324), np.float32(-0.13445458), np.float32(-0.17796758), np.float32(-0.38409254), np.float32(0.3694583), np.float32(0.3271838), np.float32(0.016447514), np.float32(-0.445537), np.float32(0.11779324), np.float32(-0.14595066), np.float32(-0.37976533), np.float32(0.4472817), np.float32(-0.061606303), np.float32(-0.56712115), np.float32(0.52411675), np.float32(0.34588927), np.float32(0.04069962), np.float32(0.25854823), np.float32(0.48083156), np.float32(1.1309817), np.float32(0.8310786), np.float32(0.17030728), np.float32(0.29571465), np.float32(0.36765042), np.float32(0.32438126), np.float32(-0.66514856), np.float32(-9.995775), np.float32(0.10208694), np.float32(-0.21471304), np.float32(0.5108417), np.float32(-0.094991274), np.float32(-0.22109391), np.float32(0.90415317), np.float32(0.38502666), np.float32(-0.31419882), np.float32(0.31636855), np.float32(-0.31630453), np.float32(-0.4402615), np.float32(0.08301542), np.float32(0.4258293), np.float32(0.04353143), np.float32(0.31790012), np.float32(0.12565054), np.float32(0.37384564), np.float32(0.5108364), np.float32(0.26576164), np.float32(-0.054450985), np.float32(-0.17526472), np.float32(-0.30063337), np.float32(-0.29786745), np.float32(-0.31456816), np.float32(0.10930544), np.float32(-0.34720683), np.float32(0.5460636), np.float32(-0.0053459816), np.float32(0.15108465), np.float32(-0.51986563), np.float32(0.19337328), np.float32(-0.53949106), np.float32(0.64361286), np.float32(-0.19034903), np.float32(-0.07726599), np.float32(0.021777088), np.float32(0.71195436), np.float32(0.74471736), np.float32(-0.57502764), np.float32(-0.12542845), np.float32(0.38234252), np.float32(0.045756783), np.float32(-0.1131939), np.float32(-0.011928431), np.float32(-1.0454655), np.float32(0.41933516), np.float32(-0.55008537), np.float32(0.08726248), np.float32(0.07459281), np.float32(0.28827053), np.float32(0.4862055), np.float32(0.21996818), np.float32(0.56077075), np.float32(0.06563832), np.float32(-0.1725604), np.float32(-0.078204855), np.float32(-0.08732912), np.float32(0.19103442), np.float32(-0.08526629), np.float32(-0.12599723), np.float32(0.19452925), np.float32(0.544939), np.float32(0.19666596), np.float32(-0.12785119), np.float32(-0.43103716), np.float32(0.3603385), np.float32(-0.4762015), np.float32(-0.47426534), np.float32(-0.24247897), np.float32(-0.3788889), np.float32(-0.08172467), np.float32(-0.47762126), np.float32(0.26459208), np.float32(0.44432825), np.float32(-0.031526532), np.float32(0.4115702), np.float32(1.2265576), np.float32(0.20736249), np.float32(-0.039812494), np.float32(-0.16972867), np.float32(-0.016228972), np.float32(0.6589687), np.float32(-0.59198636), np.float32(-0.0013488005), np.float32(-0.6785703), np.float32(0.47212023), np.float32(0.5287592), np.float32(0.26458785), np.float32(-0.86750257), np.float32(-0.015325382), np.float32(-0.13815641), np.float32(-0.15126339), np.float32(-0.2588958), np.float32(-0.50029624), np.float32(-0.40994892), np.float32(-0.2625156), np.float32(-0.0905966), np.float32(0.061692417), np.float32(-0.017515622), np.float32(-0.17209382), np.float32(0.6383033), np.float32(-0.2557698), np.float32(-0.58594155), np.float32(-0.21507786), np.float32(0.181908), np.float32(-0.05249931), np.float32(0.38876945), np.float32(0.14037625), np.float32(-0.6412747), np.float32(0.016955003), np.float32(0.20717506), np.float32(-0.20091616), np.float32(-0.5026862), np.float32(-0.16074473), np.float32(0.15254164), np.float32(0.4291712), np.float32(-1.0965561), np.float32(0.24643542), np.float32(-0.17051405), np.float32(0.18224666), np.float32(0.17106648), np.float32(0.1469023), np.float32(0.21687262), np.float32(-0.028681993), np.float32(-0.23271045), np.float32(0.9718815), np.float32(-1.2203087), np.float32(0.47550023), np.float32(0.24201421), np.float32(-0.06573818), np.float32(0.2626089), np.float32(-0.2909275), np.float32(0.3870415), np.float32(0.49926633), np.float32(0.41611004), np.float32(0.66982555), np.float32(0.65206265), np.float32(-0.088538386), np.float32(-0.33088267), np.float32(-0.10032596), np.float32(-0.12289198), np.float32(-0.040159985), np.float32(-0.24088292), np.float32(-0.02194183), np.float32(0.42191967), np.float32(-0.47234836), np.float32(0.017566148), np.float32(-0.13697028), np.float32(0.26623026), np.float32(-0.20010746), np.float32(0.5132663), np.float32(0.29141638), np.float32(-0.0021044256), np.float32(-0.05711988), np.float32(0.6895434), np.float32(0.7486734), np.float32(0.17826113), np.float32(-0.90455323), np.float32(0.37211412), np.float32(-0.75428146), np.float32(0.9499924), np.float32(-0.6219795), np.float32(0.5324088), np.float32(0.024296988), np.float32(0.23453912), np.float32(-0.27009955), np.float32(-0.40056026), np.float32(-0.087602556), np.float32(-0.045779143), np.float32(-0.03601682), np.float32(0.19290967), np.float32(0.17165017), np.float32(-0.43353295), np.float32(-0.036424566), np.float32(-0.034128565), np.float32(-0.27829096), np.float32(0.014689038), np.float32(-0.5577107), np.float32(-0.19243269), np.float32(0.34765413), np.float32(0.072832145), np.float32(-0.4579251), np.float32(-0.20822053), np.float32(-0.39570478), np.float32(0.0101142), np.float32(-0.21739618), np.float32(0.006964576), np.float32(-0.36770523), np.float32(-0.18113978), np.float32(-0.23336522), np.float32(-0.029864814), np.float32(-0.20884871), np.float32(0.026318852), np.float32(0.24192618), np.float32(-0.06261517), np.float32(0.30329704), np.float32(-0.4282645), np.float32(-0.041947044), np.float32(-0.20474897), np.float32(-0.33518618), np.float32(-0.47506338), np.float32(0.3451439), np.float32(-0.37880164), np.float32(0.22300676), np.float32(-0.2592524), np.float32(0.378022), np.float32(0.1413744), np.float32(0.062440846), np.float32(0.14885701), np.float32(-0.19788076)]}\n"
     ]
    }
   ],
   "source": [
    "# from pymilvus import connections, Collection\n",
    "\n",
    "# # Connect to Milvus\n",
    "# connections.connect(alias=\"default\", host=\"localhost\", port=19530)\n",
    "\n",
    "# Load your collection\n",
    "# collection = Collection(\"demo_collection\")\n",
    "\n",
    "# collection = client.load_collection(\"demo_collection\")\n",
    "# Query for records where id >= 0 and id < 10\n",
    "# results = collection.query(\n",
    "#     expr=\"id >= 0 and id < 10\",\n",
    "#     output_fields=[\"id\", \"vector\", \"text\", \"source\"]\n",
    "# )\n",
    "\n",
    "# results = client.query(\n",
    "#     collection_name=\"demo_collection\",\n",
    "#     expr=\"id >= 0 and id < 10\",\n",
    "#     output_fields=[\"id\", \"vector\", \"text\", \"source\"]\n",
    "# )\n",
    "results = client.query(\n",
    "    collection_name=\"demo_collection\",\n",
    "    ids=[0, 2],\n",
    "    output_fields=[\"vector\", \"text\", \"subject\"],\n",
    ")\n",
    "\n",
    "\n",
    "# Print results\n",
    "for record in results:\n",
    "    print(record)\n"
   ]
  },
  {
   "cell_type": "code",
   "execution_count": 12,
   "id": "da0f1065",
   "metadata": {},
   "outputs": [
    {
     "name": "stdout",
     "output_type": "stream",
     "text": [
      "<class 'numpy.ndarray'>\n"
     ]
    }
   ],
   "source": [
    "print (type(snomed_embeddings))\n"
   ]
  },
  {
   "cell_type": "code",
   "execution_count": 2,
   "id": "18149670",
   "metadata": {},
   "outputs": [
    {
     "name": "stderr",
     "output_type": "stream",
     "text": [
      "2025-04-25 16:27:41,640 [ERROR][handler]: RPC error: [__internal_register], <MilvusException: (code=1, message=Incorrect port or sdk is incompatible with server, please check your port or downgrade your sdk or upgrade your server)>, <Time:{'RPC start': '2025-04-25 16:27:41.638014', 'RPC error': '2025-04-25 16:27:41.640026'}> (decorators.py:140)\n"
     ]
    },
    {
     "ename": "MilvusException",
     "evalue": "<MilvusException: (code=1, message=Incorrect port or sdk is incompatible with server, please check your port or downgrade your sdk or upgrade your server)>",
     "output_type": "error",
     "traceback": [
      "\u001b[31m---------------------------------------------------------------------------\u001b[39m",
      "\u001b[31mMilvusException\u001b[39m                           Traceback (most recent call last)",
      "    \u001b[31m[... skipping hidden 1 frame]\u001b[39m\n",
      "\u001b[36mCell\u001b[39m\u001b[36m \u001b[39m\u001b[32mIn[2]\u001b[39m\u001b[32m, line 4\u001b[39m\n\u001b[32m      2\u001b[39m \u001b[38;5;28;01mfrom\u001b[39;00m\u001b[38;5;250m \u001b[39m\u001b[34;01mpymilvus\u001b[39;00m\u001b[38;5;250m \u001b[39m\u001b[38;5;28;01mimport\u001b[39;00m Collection, CollectionSchema, FieldSchema, DataType\n\u001b[32m----> \u001b[39m\u001b[32m4\u001b[39m \u001b[43mconnections\u001b[49m\u001b[43m.\u001b[49m\u001b[43mconnect\u001b[49m\u001b[43m(\u001b[49m\u001b[43malias\u001b[49m\u001b[43m=\u001b[49m\u001b[33;43m\"\u001b[39;49m\u001b[33;43mdefault\u001b[39;49m\u001b[33;43m\"\u001b[39;49m\u001b[43m,\u001b[49m\u001b[43m \u001b[49m\u001b[43mhost\u001b[49m\u001b[43m=\u001b[49m\u001b[33;43m\"\u001b[39;49m\u001b[33;43mlocalhost\u001b[39;49m\u001b[33;43m\"\u001b[39;49m\u001b[43m,\u001b[49m\u001b[43m \u001b[49m\u001b[43mport\u001b[49m\u001b[43m=\u001b[49m\u001b[33;43m\"\u001b[39;49m\u001b[33;43m19530\u001b[39;49m\u001b[33;43m\"\u001b[39;49m\u001b[43m)\u001b[49m\n",
      "\u001b[36mFile \u001b[39m\u001b[32m~/Medi_Data/medi_env/lib/python3.12/site-packages/pymilvus/orm/connections.py:461\u001b[39m, in \u001b[36mConnections.connect\u001b[39m\u001b[34m(self, alias, user, password, db_name, token, _async, **kwargs)\u001b[39m\n\u001b[32m    459\u001b[39m         kwargs[\u001b[33m\"\u001b[39m\u001b[33msecure\u001b[39m\u001b[33m\"\u001b[39m] = \u001b[38;5;28;01mTrue\u001b[39;00m\n\u001b[32m--> \u001b[39m\u001b[32m461\u001b[39m \u001b[43mconnect_milvus\u001b[49m\u001b[43m(\u001b[49m\u001b[43m*\u001b[49m\u001b[43m*\u001b[49m\u001b[43mkwargs\u001b[49m\u001b[43m,\u001b[49m\u001b[43m \u001b[49m\u001b[43muser\u001b[49m\u001b[43m=\u001b[49m\u001b[43muser\u001b[49m\u001b[43m,\u001b[49m\u001b[43m \u001b[49m\u001b[43mpassword\u001b[49m\u001b[43m=\u001b[49m\u001b[43mpassword\u001b[49m\u001b[43m,\u001b[49m\u001b[43m \u001b[49m\u001b[43mtoken\u001b[49m\u001b[43m=\u001b[49m\u001b[43mtoken\u001b[49m\u001b[43m,\u001b[49m\u001b[43m \u001b[49m\u001b[43mdb_name\u001b[49m\u001b[43m=\u001b[49m\u001b[43mdb_name\u001b[49m\u001b[43m)\u001b[49m\n\u001b[32m    462\u001b[39m \u001b[38;5;28;01mreturn\u001b[39;00m\n",
      "\u001b[36mFile \u001b[39m\u001b[32m~/Medi_Data/medi_env/lib/python3.12/site-packages/pymilvus/orm/connections.py:411\u001b[39m, in \u001b[36mConnections.connect.<locals>.connect_milvus\u001b[39m\u001b[34m(**kwargs)\u001b[39m\n\u001b[32m    410\u001b[39m \u001b[38;5;28;01mif\u001b[39;00m \u001b[38;5;129;01mnot\u001b[39;00m _async:\n\u001b[32m--> \u001b[39m\u001b[32m411\u001b[39m     \u001b[43mgh\u001b[49m\u001b[43m.\u001b[49m\u001b[43m_wait_for_channel_ready\u001b[49m\u001b[43m(\u001b[49m\u001b[43mtimeout\u001b[49m\u001b[43m=\u001b[49m\u001b[43mtimeout\u001b[49m\u001b[43m)\u001b[49m\n\u001b[32m    413\u001b[39m \u001b[38;5;28;01mif\u001b[39;00m kwargs.get(\u001b[33m\"\u001b[39m\u001b[33mkeep_alive\u001b[39m\u001b[33m\"\u001b[39m, \u001b[38;5;28;01mFalse\u001b[39;00m):\n",
      "\u001b[36mFile \u001b[39m\u001b[32m~/Medi_Data/medi_env/lib/python3.12/site-packages/pymilvus/client/grpc_handler.py:165\u001b[39m, in \u001b[36mGrpcHandler._wait_for_channel_ready\u001b[39m\u001b[34m(self, timeout)\u001b[39m\n\u001b[32m    164\u001b[39m \u001b[38;5;28mself\u001b[39m.close()\n\u001b[32m--> \u001b[39m\u001b[32m165\u001b[39m \u001b[38;5;28;01mraise\u001b[39;00m e \u001b[38;5;28;01mfrom\u001b[39;00m\u001b[38;5;250m \u001b[39m\u001b[34;01me\u001b[39;00m\n",
      "\u001b[36mFile \u001b[39m\u001b[32m~/Medi_Data/medi_env/lib/python3.12/site-packages/pymilvus/client/grpc_handler.py:156\u001b[39m, in \u001b[36mGrpcHandler._wait_for_channel_ready\u001b[39m\u001b[34m(self, timeout)\u001b[39m\n\u001b[32m    155\u001b[39m     grpc.channel_ready_future(\u001b[38;5;28mself\u001b[39m._channel).result(timeout=timeout)\n\u001b[32m--> \u001b[39m\u001b[32m156\u001b[39m     \u001b[38;5;28;43mself\u001b[39;49m\u001b[43m.\u001b[49m\u001b[43m_setup_identifier_interceptor\u001b[49m\u001b[43m(\u001b[49m\u001b[38;5;28;43mself\u001b[39;49m\u001b[43m.\u001b[49m\u001b[43m_user\u001b[49m\u001b[43m,\u001b[49m\u001b[43m \u001b[49m\u001b[43mtimeout\u001b[49m\u001b[43m=\u001b[49m\u001b[43mtimeout\u001b[49m\u001b[43m)\u001b[49m\n\u001b[32m    157\u001b[39m \u001b[38;5;28;01mexcept\u001b[39;00m grpc.FutureTimeoutError \u001b[38;5;28;01mas\u001b[39;00m e:\n",
      "\u001b[36mFile \u001b[39m\u001b[32m~/Medi_Data/medi_env/lib/python3.12/site-packages/pymilvus/client/grpc_handler.py:278\u001b[39m, in \u001b[36mGrpcHandler._setup_identifier_interceptor\u001b[39m\u001b[34m(self, user, timeout)\u001b[39m\n\u001b[32m    277\u001b[39m host = socket.gethostname()\n\u001b[32m--> \u001b[39m\u001b[32m278\u001b[39m \u001b[38;5;28mself\u001b[39m._identifier = \u001b[38;5;28;43mself\u001b[39;49m\u001b[43m.\u001b[49m\u001b[43m__internal_register\u001b[49m\u001b[43m(\u001b[49m\u001b[43muser\u001b[49m\u001b[43m,\u001b[49m\u001b[43m \u001b[49m\u001b[43mhost\u001b[49m\u001b[43m,\u001b[49m\u001b[43m \u001b[49m\u001b[43mtimeout\u001b[49m\u001b[43m=\u001b[49m\u001b[43mtimeout\u001b[49m\u001b[43m)\u001b[49m\n\u001b[32m    279\u001b[39m \u001b[38;5;28mself\u001b[39m._identifier_interceptor = interceptor.header_adder_interceptor(\n\u001b[32m    280\u001b[39m     [\u001b[33m\"\u001b[39m\u001b[33midentifier\u001b[39m\u001b[33m\"\u001b[39m], [\u001b[38;5;28mstr\u001b[39m(\u001b[38;5;28mself\u001b[39m._identifier)]\n\u001b[32m    281\u001b[39m )\n",
      "\u001b[36mFile \u001b[39m\u001b[32m~/Medi_Data/medi_env/lib/python3.12/site-packages/pymilvus/decorators.py:141\u001b[39m, in \u001b[36merror_handler.<locals>.wrapper.<locals>.handler\u001b[39m\u001b[34m(*args, **kwargs)\u001b[39m\n\u001b[32m    140\u001b[39m     LOGGER.error(\u001b[33mf\u001b[39m\u001b[33m\"\u001b[39m\u001b[33mRPC error: [\u001b[39m\u001b[38;5;132;01m{\u001b[39;00minner_name\u001b[38;5;132;01m}\u001b[39;00m\u001b[33m], \u001b[39m\u001b[38;5;132;01m{\u001b[39;00me\u001b[38;5;132;01m}\u001b[39;00m\u001b[33m, <Time:\u001b[39m\u001b[38;5;132;01m{\u001b[39;00mrecord_dict\u001b[38;5;132;01m}\u001b[39;00m\u001b[33m>\u001b[39m\u001b[33m\"\u001b[39m)\n\u001b[32m--> \u001b[39m\u001b[32m141\u001b[39m     \u001b[38;5;28;01mraise\u001b[39;00m e \u001b[38;5;28;01mfrom\u001b[39;00m\u001b[38;5;250m \u001b[39m\u001b[34;01me\u001b[39;00m\n\u001b[32m    142\u001b[39m \u001b[38;5;28;01mexcept\u001b[39;00m grpc.FutureTimeoutError \u001b[38;5;28;01mas\u001b[39;00m e:\n",
      "\u001b[36mFile \u001b[39m\u001b[32m~/Medi_Data/medi_env/lib/python3.12/site-packages/pymilvus/decorators.py:137\u001b[39m, in \u001b[36merror_handler.<locals>.wrapper.<locals>.handler\u001b[39m\u001b[34m(*args, **kwargs)\u001b[39m\n\u001b[32m    136\u001b[39m     record_dict[\u001b[33m\"\u001b[39m\u001b[33mRPC start\u001b[39m\u001b[33m\"\u001b[39m] = \u001b[38;5;28mstr\u001b[39m(datetime.datetime.now())\n\u001b[32m--> \u001b[39m\u001b[32m137\u001b[39m     \u001b[38;5;28;01mreturn\u001b[39;00m \u001b[43mfunc\u001b[49m\u001b[43m(\u001b[49m\u001b[43m*\u001b[49m\u001b[43margs\u001b[49m\u001b[43m,\u001b[49m\u001b[43m \u001b[49m\u001b[43m*\u001b[49m\u001b[43m*\u001b[49m\u001b[43mkwargs\u001b[49m\u001b[43m)\u001b[49m\n\u001b[32m    138\u001b[39m \u001b[38;5;28;01mexcept\u001b[39;00m MilvusException \u001b[38;5;28;01mas\u001b[39;00m e:\n",
      "\u001b[36mFile \u001b[39m\u001b[32m~/Medi_Data/medi_env/lib/python3.12/site-packages/pymilvus/decorators.py:176\u001b[39m, in \u001b[36mtracing_request.<locals>.wrapper.<locals>.handler\u001b[39m\u001b[34m(self, *args, **kwargs)\u001b[39m\n\u001b[32m    175\u001b[39m     \u001b[38;5;28mself\u001b[39m.set_onetime_request_id(req_id)\n\u001b[32m--> \u001b[39m\u001b[32m176\u001b[39m \u001b[38;5;28;01mreturn\u001b[39;00m \u001b[43mfunc\u001b[49m\u001b[43m(\u001b[49m\u001b[38;5;28;43mself\u001b[39;49m\u001b[43m,\u001b[49m\u001b[43m \u001b[49m\u001b[43m*\u001b[49m\u001b[43margs\u001b[49m\u001b[43m,\u001b[49m\u001b[43m \u001b[49m\u001b[43m*\u001b[49m\u001b[43m*\u001b[49m\u001b[43mkwargs\u001b[49m\u001b[43m)\u001b[49m\n",
      "\u001b[36mFile \u001b[39m\u001b[32m~/Medi_Data/medi_env/lib/python3.12/site-packages/pymilvus/decorators.py:116\u001b[39m, in \u001b[36mretry_on_rpc_failure.<locals>.wrapper.<locals>.handler\u001b[39m\u001b[34m(*args, **kwargs)\u001b[39m\n\u001b[32m    115\u001b[39m     \u001b[38;5;28;01melse\u001b[39;00m:\n\u001b[32m--> \u001b[39m\u001b[32m116\u001b[39m         \u001b[38;5;28;01mraise\u001b[39;00m e \u001b[38;5;28;01mfrom\u001b[39;00m\u001b[38;5;250m \u001b[39m\u001b[34;01me\u001b[39;00m\n\u001b[32m    117\u001b[39m \u001b[38;5;28;01mexcept\u001b[39;00m \u001b[38;5;167;01mException\u001b[39;00m \u001b[38;5;28;01mas\u001b[39;00m e:\n",
      "\u001b[36mFile \u001b[39m\u001b[32m~/Medi_Data/medi_env/lib/python3.12/site-packages/pymilvus/decorators.py:86\u001b[39m, in \u001b[36mretry_on_rpc_failure.<locals>.wrapper.<locals>.handler\u001b[39m\u001b[34m(*args, **kwargs)\u001b[39m\n\u001b[32m     85\u001b[39m \u001b[38;5;28;01mtry\u001b[39;00m:\n\u001b[32m---> \u001b[39m\u001b[32m86\u001b[39m     \u001b[38;5;28;01mreturn\u001b[39;00m \u001b[43mfunc\u001b[49m\u001b[43m(\u001b[49m\u001b[43m*\u001b[49m\u001b[43margs\u001b[49m\u001b[43m,\u001b[49m\u001b[43m \u001b[49m\u001b[43m*\u001b[49m\u001b[43m*\u001b[49m\u001b[43mkwargs\u001b[49m\u001b[43m)\u001b[49m\n\u001b[32m     87\u001b[39m \u001b[38;5;28;01mexcept\u001b[39;00m grpc.RpcError \u001b[38;5;28;01mas\u001b[39;00m e:\n\u001b[32m     88\u001b[39m     \u001b[38;5;66;03m# Do not retry on these codes\u001b[39;00m\n",
      "\u001b[36mFile \u001b[39m\u001b[32m~/Medi_Data/medi_env/lib/python3.12/site-packages/pymilvus/decorators.py:213\u001b[39m, in \u001b[36mupgrade_reminder.<locals>.handler\u001b[39m\u001b[34m(*args, **kwargs)\u001b[39m\n\u001b[32m    209\u001b[39m     msg = (\n\u001b[32m    210\u001b[39m         \u001b[33m\"\u001b[39m\u001b[33mIncorrect port or sdk is incompatible with server, \u001b[39m\u001b[33m\"\u001b[39m\n\u001b[32m    211\u001b[39m         \u001b[33m\"\u001b[39m\u001b[33mplease check your port or downgrade your sdk or upgrade your server\u001b[39m\u001b[33m\"\u001b[39m\n\u001b[32m    212\u001b[39m     )\n\u001b[32m--> \u001b[39m\u001b[32m213\u001b[39m     \u001b[38;5;28;01mraise\u001b[39;00m MilvusException(message=msg) \u001b[38;5;28;01mfrom\u001b[39;00m\u001b[38;5;250m \u001b[39m\u001b[34;01me\u001b[39;00m\n\u001b[32m    214\u001b[39m \u001b[38;5;28;01mraise\u001b[39;00m e \u001b[38;5;28;01mfrom\u001b[39;00m\u001b[38;5;250m \u001b[39m\u001b[34;01me\u001b[39;00m\n",
      "\u001b[31mMilvusException\u001b[39m: <MilvusException: (code=1, message=Incorrect port or sdk is incompatible with server, please check your port or downgrade your sdk or upgrade your server)>",
      "\nThe above exception was the direct cause of the following exception:\n",
      "\u001b[31mMilvusException\u001b[39m                           Traceback (most recent call last)",
      "    \u001b[31m[... skipping hidden 1 frame]\u001b[39m\n",
      "\u001b[36mCell\u001b[39m\u001b[36m \u001b[39m\u001b[32mIn[2]\u001b[39m\u001b[32m, line 4\u001b[39m\n\u001b[32m      2\u001b[39m \u001b[38;5;28;01mfrom\u001b[39;00m\u001b[38;5;250m \u001b[39m\u001b[34;01mpymilvus\u001b[39;00m\u001b[38;5;250m \u001b[39m\u001b[38;5;28;01mimport\u001b[39;00m Collection, CollectionSchema, FieldSchema, DataType\n\u001b[32m----> \u001b[39m\u001b[32m4\u001b[39m \u001b[43mconnections\u001b[49m\u001b[43m.\u001b[49m\u001b[43mconnect\u001b[49m\u001b[43m(\u001b[49m\u001b[43malias\u001b[49m\u001b[43m=\u001b[49m\u001b[33;43m\"\u001b[39;49m\u001b[33;43mdefault\u001b[39;49m\u001b[33;43m\"\u001b[39;49m\u001b[43m,\u001b[49m\u001b[43m \u001b[49m\u001b[43mhost\u001b[49m\u001b[43m=\u001b[49m\u001b[33;43m\"\u001b[39;49m\u001b[33;43mlocalhost\u001b[39;49m\u001b[33;43m\"\u001b[39;49m\u001b[43m,\u001b[49m\u001b[43m \u001b[49m\u001b[43mport\u001b[49m\u001b[43m=\u001b[49m\u001b[33;43m\"\u001b[39;49m\u001b[33;43m19530\u001b[39;49m\u001b[33;43m\"\u001b[39;49m\u001b[43m)\u001b[49m\n",
      "\u001b[36mFile \u001b[39m\u001b[32m~/Medi_Data/medi_env/lib/python3.12/site-packages/pymilvus/orm/connections.py:461\u001b[39m, in \u001b[36mConnections.connect\u001b[39m\u001b[34m(self, alias, user, password, db_name, token, _async, **kwargs)\u001b[39m\n\u001b[32m    459\u001b[39m         kwargs[\u001b[33m\"\u001b[39m\u001b[33msecure\u001b[39m\u001b[33m\"\u001b[39m] = \u001b[38;5;28;01mTrue\u001b[39;00m\n\u001b[32m--> \u001b[39m\u001b[32m461\u001b[39m \u001b[43mconnect_milvus\u001b[49m\u001b[43m(\u001b[49m\u001b[43m*\u001b[49m\u001b[43m*\u001b[49m\u001b[43mkwargs\u001b[49m\u001b[43m,\u001b[49m\u001b[43m \u001b[49m\u001b[43muser\u001b[49m\u001b[43m=\u001b[49m\u001b[43muser\u001b[49m\u001b[43m,\u001b[49m\u001b[43m \u001b[49m\u001b[43mpassword\u001b[49m\u001b[43m=\u001b[49m\u001b[43mpassword\u001b[49m\u001b[43m,\u001b[49m\u001b[43m \u001b[49m\u001b[43mtoken\u001b[49m\u001b[43m=\u001b[49m\u001b[43mtoken\u001b[49m\u001b[43m,\u001b[49m\u001b[43m \u001b[49m\u001b[43mdb_name\u001b[49m\u001b[43m=\u001b[49m\u001b[43mdb_name\u001b[49m\u001b[43m)\u001b[49m\n\u001b[32m    462\u001b[39m \u001b[38;5;28;01mreturn\u001b[39;00m\n",
      "\u001b[36mFile \u001b[39m\u001b[32m~/Medi_Data/medi_env/lib/python3.12/site-packages/pymilvus/orm/connections.py:411\u001b[39m, in \u001b[36mConnections.connect.<locals>.connect_milvus\u001b[39m\u001b[34m(**kwargs)\u001b[39m\n\u001b[32m    410\u001b[39m \u001b[38;5;28;01mif\u001b[39;00m \u001b[38;5;129;01mnot\u001b[39;00m _async:\n\u001b[32m--> \u001b[39m\u001b[32m411\u001b[39m     \u001b[43mgh\u001b[49m\u001b[43m.\u001b[49m\u001b[43m_wait_for_channel_ready\u001b[49m\u001b[43m(\u001b[49m\u001b[43mtimeout\u001b[49m\u001b[43m=\u001b[49m\u001b[43mtimeout\u001b[49m\u001b[43m)\u001b[49m\n\u001b[32m    413\u001b[39m \u001b[38;5;28;01mif\u001b[39;00m kwargs.get(\u001b[33m\"\u001b[39m\u001b[33mkeep_alive\u001b[39m\u001b[33m\"\u001b[39m, \u001b[38;5;28;01mFalse\u001b[39;00m):\n",
      "\u001b[36mFile \u001b[39m\u001b[32m~/Medi_Data/medi_env/lib/python3.12/site-packages/pymilvus/client/grpc_handler.py:165\u001b[39m, in \u001b[36mGrpcHandler._wait_for_channel_ready\u001b[39m\u001b[34m(self, timeout)\u001b[39m\n\u001b[32m    164\u001b[39m \u001b[38;5;28mself\u001b[39m.close()\n\u001b[32m--> \u001b[39m\u001b[32m165\u001b[39m \u001b[38;5;28;01mraise\u001b[39;00m e \u001b[38;5;28;01mfrom\u001b[39;00m\u001b[38;5;250m \u001b[39m\u001b[34;01me\u001b[39;00m\n",
      "\u001b[36mFile \u001b[39m\u001b[32m~/Medi_Data/medi_env/lib/python3.12/site-packages/pymilvus/client/grpc_handler.py:156\u001b[39m, in \u001b[36mGrpcHandler._wait_for_channel_ready\u001b[39m\u001b[34m(self, timeout)\u001b[39m\n\u001b[32m    155\u001b[39m     grpc.channel_ready_future(\u001b[38;5;28mself\u001b[39m._channel).result(timeout=timeout)\n\u001b[32m--> \u001b[39m\u001b[32m156\u001b[39m     \u001b[38;5;28;43mself\u001b[39;49m\u001b[43m.\u001b[49m\u001b[43m_setup_identifier_interceptor\u001b[49m\u001b[43m(\u001b[49m\u001b[38;5;28;43mself\u001b[39;49m\u001b[43m.\u001b[49m\u001b[43m_user\u001b[49m\u001b[43m,\u001b[49m\u001b[43m \u001b[49m\u001b[43mtimeout\u001b[49m\u001b[43m=\u001b[49m\u001b[43mtimeout\u001b[49m\u001b[43m)\u001b[49m\n\u001b[32m    157\u001b[39m \u001b[38;5;28;01mexcept\u001b[39;00m grpc.FutureTimeoutError \u001b[38;5;28;01mas\u001b[39;00m e:\n",
      "\u001b[36mFile \u001b[39m\u001b[32m~/Medi_Data/medi_env/lib/python3.12/site-packages/pymilvus/client/grpc_handler.py:278\u001b[39m, in \u001b[36mGrpcHandler._setup_identifier_interceptor\u001b[39m\u001b[34m(self, user, timeout)\u001b[39m\n\u001b[32m    277\u001b[39m host = socket.gethostname()\n\u001b[32m--> \u001b[39m\u001b[32m278\u001b[39m \u001b[38;5;28mself\u001b[39m._identifier = \u001b[38;5;28;43mself\u001b[39;49m\u001b[43m.\u001b[49m\u001b[43m__internal_register\u001b[49m\u001b[43m(\u001b[49m\u001b[43muser\u001b[49m\u001b[43m,\u001b[49m\u001b[43m \u001b[49m\u001b[43mhost\u001b[49m\u001b[43m,\u001b[49m\u001b[43m \u001b[49m\u001b[43mtimeout\u001b[49m\u001b[43m=\u001b[49m\u001b[43mtimeout\u001b[49m\u001b[43m)\u001b[49m\n\u001b[32m    279\u001b[39m \u001b[38;5;28mself\u001b[39m._identifier_interceptor = interceptor.header_adder_interceptor(\n\u001b[32m    280\u001b[39m     [\u001b[33m\"\u001b[39m\u001b[33midentifier\u001b[39m\u001b[33m\"\u001b[39m], [\u001b[38;5;28mstr\u001b[39m(\u001b[38;5;28mself\u001b[39m._identifier)]\n\u001b[32m    281\u001b[39m )\n",
      "\u001b[36mFile \u001b[39m\u001b[32m~/Medi_Data/medi_env/lib/python3.12/site-packages/pymilvus/decorators.py:141\u001b[39m, in \u001b[36merror_handler.<locals>.wrapper.<locals>.handler\u001b[39m\u001b[34m(*args, **kwargs)\u001b[39m\n\u001b[32m    140\u001b[39m     LOGGER.error(\u001b[33mf\u001b[39m\u001b[33m\"\u001b[39m\u001b[33mRPC error: [\u001b[39m\u001b[38;5;132;01m{\u001b[39;00minner_name\u001b[38;5;132;01m}\u001b[39;00m\u001b[33m], \u001b[39m\u001b[38;5;132;01m{\u001b[39;00me\u001b[38;5;132;01m}\u001b[39;00m\u001b[33m, <Time:\u001b[39m\u001b[38;5;132;01m{\u001b[39;00mrecord_dict\u001b[38;5;132;01m}\u001b[39;00m\u001b[33m>\u001b[39m\u001b[33m\"\u001b[39m)\n\u001b[32m--> \u001b[39m\u001b[32m141\u001b[39m     \u001b[38;5;28;01mraise\u001b[39;00m e \u001b[38;5;28;01mfrom\u001b[39;00m\u001b[38;5;250m \u001b[39m\u001b[34;01me\u001b[39;00m\n\u001b[32m    142\u001b[39m \u001b[38;5;28;01mexcept\u001b[39;00m grpc.FutureTimeoutError \u001b[38;5;28;01mas\u001b[39;00m e:\n",
      "\u001b[36mFile \u001b[39m\u001b[32m~/Medi_Data/medi_env/lib/python3.12/site-packages/pymilvus/decorators.py:137\u001b[39m, in \u001b[36merror_handler.<locals>.wrapper.<locals>.handler\u001b[39m\u001b[34m(*args, **kwargs)\u001b[39m\n\u001b[32m    136\u001b[39m     record_dict[\u001b[33m\"\u001b[39m\u001b[33mRPC start\u001b[39m\u001b[33m\"\u001b[39m] = \u001b[38;5;28mstr\u001b[39m(datetime.datetime.now())\n\u001b[32m--> \u001b[39m\u001b[32m137\u001b[39m     \u001b[38;5;28;01mreturn\u001b[39;00m \u001b[43mfunc\u001b[49m\u001b[43m(\u001b[49m\u001b[43m*\u001b[49m\u001b[43margs\u001b[49m\u001b[43m,\u001b[49m\u001b[43m \u001b[49m\u001b[43m*\u001b[49m\u001b[43m*\u001b[49m\u001b[43mkwargs\u001b[49m\u001b[43m)\u001b[49m\n\u001b[32m    138\u001b[39m \u001b[38;5;28;01mexcept\u001b[39;00m MilvusException \u001b[38;5;28;01mas\u001b[39;00m e:\n",
      "\u001b[36mFile \u001b[39m\u001b[32m~/Medi_Data/medi_env/lib/python3.12/site-packages/pymilvus/decorators.py:176\u001b[39m, in \u001b[36mtracing_request.<locals>.wrapper.<locals>.handler\u001b[39m\u001b[34m(self, *args, **kwargs)\u001b[39m\n\u001b[32m    175\u001b[39m     \u001b[38;5;28mself\u001b[39m.set_onetime_request_id(req_id)\n\u001b[32m--> \u001b[39m\u001b[32m176\u001b[39m \u001b[38;5;28;01mreturn\u001b[39;00m \u001b[43mfunc\u001b[49m\u001b[43m(\u001b[49m\u001b[38;5;28;43mself\u001b[39;49m\u001b[43m,\u001b[49m\u001b[43m \u001b[49m\u001b[43m*\u001b[49m\u001b[43margs\u001b[49m\u001b[43m,\u001b[49m\u001b[43m \u001b[49m\u001b[43m*\u001b[49m\u001b[43m*\u001b[49m\u001b[43mkwargs\u001b[49m\u001b[43m)\u001b[49m\n",
      "\u001b[36mFile \u001b[39m\u001b[32m~/Medi_Data/medi_env/lib/python3.12/site-packages/pymilvus/decorators.py:116\u001b[39m, in \u001b[36mretry_on_rpc_failure.<locals>.wrapper.<locals>.handler\u001b[39m\u001b[34m(*args, **kwargs)\u001b[39m\n\u001b[32m    115\u001b[39m     \u001b[38;5;28;01melse\u001b[39;00m:\n\u001b[32m--> \u001b[39m\u001b[32m116\u001b[39m         \u001b[38;5;28;01mraise\u001b[39;00m e \u001b[38;5;28;01mfrom\u001b[39;00m\u001b[38;5;250m \u001b[39m\u001b[34;01me\u001b[39;00m\n\u001b[32m    117\u001b[39m \u001b[38;5;28;01mexcept\u001b[39;00m \u001b[38;5;167;01mException\u001b[39;00m \u001b[38;5;28;01mas\u001b[39;00m e:\n",
      "\u001b[36mFile \u001b[39m\u001b[32m~/Medi_Data/medi_env/lib/python3.12/site-packages/pymilvus/decorators.py:86\u001b[39m, in \u001b[36mretry_on_rpc_failure.<locals>.wrapper.<locals>.handler\u001b[39m\u001b[34m(*args, **kwargs)\u001b[39m\n\u001b[32m     85\u001b[39m \u001b[38;5;28;01mtry\u001b[39;00m:\n\u001b[32m---> \u001b[39m\u001b[32m86\u001b[39m     \u001b[38;5;28;01mreturn\u001b[39;00m \u001b[43mfunc\u001b[49m\u001b[43m(\u001b[49m\u001b[43m*\u001b[49m\u001b[43margs\u001b[49m\u001b[43m,\u001b[49m\u001b[43m \u001b[49m\u001b[43m*\u001b[49m\u001b[43m*\u001b[49m\u001b[43mkwargs\u001b[49m\u001b[43m)\u001b[49m\n\u001b[32m     87\u001b[39m \u001b[38;5;28;01mexcept\u001b[39;00m grpc.RpcError \u001b[38;5;28;01mas\u001b[39;00m e:\n\u001b[32m     88\u001b[39m     \u001b[38;5;66;03m# Do not retry on these codes\u001b[39;00m\n",
      "\u001b[36mFile \u001b[39m\u001b[32m~/Medi_Data/medi_env/lib/python3.12/site-packages/pymilvus/decorators.py:213\u001b[39m, in \u001b[36mupgrade_reminder.<locals>.handler\u001b[39m\u001b[34m(*args, **kwargs)\u001b[39m\n\u001b[32m    209\u001b[39m     msg = (\n\u001b[32m    210\u001b[39m         \u001b[33m\"\u001b[39m\u001b[33mIncorrect port or sdk is incompatible with server, \u001b[39m\u001b[33m\"\u001b[39m\n\u001b[32m    211\u001b[39m         \u001b[33m\"\u001b[39m\u001b[33mplease check your port or downgrade your sdk or upgrade your server\u001b[39m\u001b[33m\"\u001b[39m\n\u001b[32m    212\u001b[39m     )\n\u001b[32m--> \u001b[39m\u001b[32m213\u001b[39m     \u001b[38;5;28;01mraise\u001b[39;00m MilvusException(message=msg) \u001b[38;5;28;01mfrom\u001b[39;00m\u001b[38;5;250m \u001b[39m\u001b[34;01me\u001b[39;00m\n\u001b[32m    214\u001b[39m \u001b[38;5;28;01mraise\u001b[39;00m e \u001b[38;5;28;01mfrom\u001b[39;00m\u001b[38;5;250m \u001b[39m\u001b[34;01me\u001b[39;00m\n",
      "\u001b[31mMilvusException\u001b[39m: <MilvusException: (code=1, message=Incorrect port or sdk is incompatible with server, please check your port or downgrade your sdk or upgrade your server)>",
      "\nThe above exception was the direct cause of the following exception:\n",
      "\u001b[31mMilvusException\u001b[39m                           Traceback (most recent call last)",
      "\u001b[36mCell\u001b[39m\u001b[36m \u001b[39m\u001b[32mIn[2]\u001b[39m\u001b[32m, line 4\u001b[39m\n\u001b[32m      1\u001b[39m \u001b[38;5;28;01mfrom\u001b[39;00m\u001b[38;5;250m \u001b[39m\u001b[34;01mpymilvus\u001b[39;00m\u001b[38;5;250m \u001b[39m\u001b[38;5;28;01mimport\u001b[39;00m connections\n\u001b[32m      2\u001b[39m \u001b[38;5;28;01mfrom\u001b[39;00m\u001b[38;5;250m \u001b[39m\u001b[34;01mpymilvus\u001b[39;00m\u001b[38;5;250m \u001b[39m\u001b[38;5;28;01mimport\u001b[39;00m Collection, CollectionSchema, FieldSchema, DataType\n\u001b[32m----> \u001b[39m\u001b[32m4\u001b[39m \u001b[43mconnections\u001b[49m\u001b[43m.\u001b[49m\u001b[43mconnect\u001b[49m\u001b[43m(\u001b[49m\u001b[43malias\u001b[49m\u001b[43m=\u001b[49m\u001b[33;43m\"\u001b[39;49m\u001b[33;43mdefault\u001b[39;49m\u001b[33;43m\"\u001b[39;49m\u001b[43m,\u001b[49m\u001b[43m \u001b[49m\u001b[43mhost\u001b[49m\u001b[43m=\u001b[49m\u001b[33;43m\"\u001b[39;49m\u001b[33;43mlocalhost\u001b[39;49m\u001b[33;43m\"\u001b[39;49m\u001b[43m,\u001b[49m\u001b[43m \u001b[49m\u001b[43mport\u001b[49m\u001b[43m=\u001b[49m\u001b[33;43m\"\u001b[39;49m\u001b[33;43m19530\u001b[39;49m\u001b[33;43m\"\u001b[39;49m\u001b[43m)\u001b[49m\n",
      "\u001b[36mFile \u001b[39m\u001b[32m~/Medi_Data/medi_env/lib/python3.12/site-packages/pymilvus/orm/connections.py:461\u001b[39m, in \u001b[36mConnections.connect\u001b[39m\u001b[34m(self, alias, user, password, db_name, token, _async, **kwargs)\u001b[39m\n\u001b[32m    458\u001b[39m         \u001b[38;5;28;01mif\u001b[39;00m parsed_uri.scheme == \u001b[33m\"\u001b[39m\u001b[33mhttps\u001b[39m\u001b[33m\"\u001b[39m:\n\u001b[32m    459\u001b[39m             kwargs[\u001b[33m\"\u001b[39m\u001b[33msecure\u001b[39m\u001b[33m\"\u001b[39m] = \u001b[38;5;28;01mTrue\u001b[39;00m\n\u001b[32m--> \u001b[39m\u001b[32m461\u001b[39m     \u001b[43mconnect_milvus\u001b[49m\u001b[43m(\u001b[49m\u001b[43m*\u001b[49m\u001b[43m*\u001b[49m\u001b[43mkwargs\u001b[49m\u001b[43m,\u001b[49m\u001b[43m \u001b[49m\u001b[43muser\u001b[49m\u001b[43m=\u001b[49m\u001b[43muser\u001b[49m\u001b[43m,\u001b[49m\u001b[43m \u001b[49m\u001b[43mpassword\u001b[49m\u001b[43m=\u001b[49m\u001b[43mpassword\u001b[49m\u001b[43m,\u001b[49m\u001b[43m \u001b[49m\u001b[43mtoken\u001b[49m\u001b[43m=\u001b[49m\u001b[43mtoken\u001b[49m\u001b[43m,\u001b[49m\u001b[43m \u001b[49m\u001b[43mdb_name\u001b[49m\u001b[43m=\u001b[49m\u001b[43mdb_name\u001b[49m\u001b[43m)\u001b[49m\n\u001b[32m    462\u001b[39m     \u001b[38;5;28;01mreturn\u001b[39;00m\n\u001b[32m    464\u001b[39m \u001b[38;5;66;03m# 2nd Priority, connection configs from env\u001b[39;00m\n",
      "\u001b[36mFile \u001b[39m\u001b[32m~/Medi_Data/medi_env/lib/python3.12/site-packages/pymilvus/orm/connections.py:411\u001b[39m, in \u001b[36mConnections.connect.<locals>.connect_milvus\u001b[39m\u001b[34m(**kwargs)\u001b[39m\n\u001b[32m    408\u001b[39m timeout = t \u001b[38;5;28;01mif\u001b[39;00m \u001b[38;5;28misinstance\u001b[39m(t, (\u001b[38;5;28mint\u001b[39m, \u001b[38;5;28mfloat\u001b[39m)) \u001b[38;5;28;01melse\u001b[39;00m Config.MILVUS_CONN_TIMEOUT\n\u001b[32m    410\u001b[39m \u001b[38;5;28;01mif\u001b[39;00m \u001b[38;5;129;01mnot\u001b[39;00m _async:\n\u001b[32m--> \u001b[39m\u001b[32m411\u001b[39m     \u001b[43mgh\u001b[49m\u001b[43m.\u001b[49m\u001b[43m_wait_for_channel_ready\u001b[49m\u001b[43m(\u001b[49m\u001b[43mtimeout\u001b[49m\u001b[43m=\u001b[49m\u001b[43mtimeout\u001b[49m\u001b[43m)\u001b[49m\n\u001b[32m    413\u001b[39m \u001b[38;5;28;01mif\u001b[39;00m kwargs.get(\u001b[33m\"\u001b[39m\u001b[33mkeep_alive\u001b[39m\u001b[33m\"\u001b[39m, \u001b[38;5;28;01mFalse\u001b[39;00m):\n\u001b[32m    414\u001b[39m     gh.register_state_change_callback(\n\u001b[32m    415\u001b[39m         ReconnectHandler(\u001b[38;5;28mself\u001b[39m, alias, kwargs_copy).reconnect_on_idle\n\u001b[32m    416\u001b[39m     )\n",
      "\u001b[36mFile \u001b[39m\u001b[32m~/Medi_Data/medi_env/lib/python3.12/site-packages/pymilvus/client/grpc_handler.py:165\u001b[39m, in \u001b[36mGrpcHandler._wait_for_channel_ready\u001b[39m\u001b[34m(self, timeout)\u001b[39m\n\u001b[32m    163\u001b[39m \u001b[38;5;28;01mexcept\u001b[39;00m \u001b[38;5;167;01mException\u001b[39;00m \u001b[38;5;28;01mas\u001b[39;00m e:\n\u001b[32m    164\u001b[39m     \u001b[38;5;28mself\u001b[39m.close()\n\u001b[32m--> \u001b[39m\u001b[32m165\u001b[39m     \u001b[38;5;28;01mraise\u001b[39;00m e \u001b[38;5;28;01mfrom\u001b[39;00m\u001b[38;5;250m \u001b[39m\u001b[34;01me\u001b[39;00m\n",
      "\u001b[36mFile \u001b[39m\u001b[32m~/Medi_Data/medi_env/lib/python3.12/site-packages/pymilvus/client/grpc_handler.py:156\u001b[39m, in \u001b[36mGrpcHandler._wait_for_channel_ready\u001b[39m\u001b[34m(self, timeout)\u001b[39m\n\u001b[32m    154\u001b[39m \u001b[38;5;28;01mtry\u001b[39;00m:\n\u001b[32m    155\u001b[39m     grpc.channel_ready_future(\u001b[38;5;28mself\u001b[39m._channel).result(timeout=timeout)\n\u001b[32m--> \u001b[39m\u001b[32m156\u001b[39m     \u001b[38;5;28;43mself\u001b[39;49m\u001b[43m.\u001b[49m\u001b[43m_setup_identifier_interceptor\u001b[49m\u001b[43m(\u001b[49m\u001b[38;5;28;43mself\u001b[39;49m\u001b[43m.\u001b[49m\u001b[43m_user\u001b[49m\u001b[43m,\u001b[49m\u001b[43m \u001b[49m\u001b[43mtimeout\u001b[49m\u001b[43m=\u001b[49m\u001b[43mtimeout\u001b[49m\u001b[43m)\u001b[49m\n\u001b[32m    157\u001b[39m \u001b[38;5;28;01mexcept\u001b[39;00m grpc.FutureTimeoutError \u001b[38;5;28;01mas\u001b[39;00m e:\n\u001b[32m    158\u001b[39m     \u001b[38;5;28mself\u001b[39m.close()\n",
      "\u001b[36mFile \u001b[39m\u001b[32m~/Medi_Data/medi_env/lib/python3.12/site-packages/pymilvus/client/grpc_handler.py:278\u001b[39m, in \u001b[36mGrpcHandler._setup_identifier_interceptor\u001b[39m\u001b[34m(self, user, timeout)\u001b[39m\n\u001b[32m    276\u001b[39m \u001b[38;5;28;01mdef\u001b[39;00m\u001b[38;5;250m \u001b[39m\u001b[34m_setup_identifier_interceptor\u001b[39m(\u001b[38;5;28mself\u001b[39m, user: \u001b[38;5;28mstr\u001b[39m, timeout: \u001b[38;5;28mint\u001b[39m = \u001b[32m10\u001b[39m):\n\u001b[32m    277\u001b[39m     host = socket.gethostname()\n\u001b[32m--> \u001b[39m\u001b[32m278\u001b[39m     \u001b[38;5;28mself\u001b[39m._identifier = \u001b[38;5;28;43mself\u001b[39;49m\u001b[43m.\u001b[49m\u001b[43m__internal_register\u001b[49m\u001b[43m(\u001b[49m\u001b[43muser\u001b[49m\u001b[43m,\u001b[49m\u001b[43m \u001b[49m\u001b[43mhost\u001b[49m\u001b[43m,\u001b[49m\u001b[43m \u001b[49m\u001b[43mtimeout\u001b[49m\u001b[43m=\u001b[49m\u001b[43mtimeout\u001b[49m\u001b[43m)\u001b[49m\n\u001b[32m    279\u001b[39m     \u001b[38;5;28mself\u001b[39m._identifier_interceptor = interceptor.header_adder_interceptor(\n\u001b[32m    280\u001b[39m         [\u001b[33m\"\u001b[39m\u001b[33midentifier\u001b[39m\u001b[33m\"\u001b[39m], [\u001b[38;5;28mstr\u001b[39m(\u001b[38;5;28mself\u001b[39m._identifier)]\n\u001b[32m    281\u001b[39m     )\n\u001b[32m    282\u001b[39m     \u001b[38;5;28mself\u001b[39m._final_channel = grpc.intercept_channel(\n\u001b[32m    283\u001b[39m         \u001b[38;5;28mself\u001b[39m._final_channel, \u001b[38;5;28mself\u001b[39m._identifier_interceptor\n\u001b[32m    284\u001b[39m     )\n",
      "\u001b[36mFile \u001b[39m\u001b[32m~/Medi_Data/medi_env/lib/python3.12/site-packages/pymilvus/decorators.py:141\u001b[39m, in \u001b[36merror_handler.<locals>.wrapper.<locals>.handler\u001b[39m\u001b[34m(*args, **kwargs)\u001b[39m\n\u001b[32m    139\u001b[39m     record_dict[\u001b[33m\"\u001b[39m\u001b[33mRPC error\u001b[39m\u001b[33m\"\u001b[39m] = \u001b[38;5;28mstr\u001b[39m(datetime.datetime.now())\n\u001b[32m    140\u001b[39m     LOGGER.error(\u001b[33mf\u001b[39m\u001b[33m\"\u001b[39m\u001b[33mRPC error: [\u001b[39m\u001b[38;5;132;01m{\u001b[39;00minner_name\u001b[38;5;132;01m}\u001b[39;00m\u001b[33m], \u001b[39m\u001b[38;5;132;01m{\u001b[39;00me\u001b[38;5;132;01m}\u001b[39;00m\u001b[33m, <Time:\u001b[39m\u001b[38;5;132;01m{\u001b[39;00mrecord_dict\u001b[38;5;132;01m}\u001b[39;00m\u001b[33m>\u001b[39m\u001b[33m\"\u001b[39m)\n\u001b[32m--> \u001b[39m\u001b[32m141\u001b[39m     \u001b[38;5;28;01mraise\u001b[39;00m e \u001b[38;5;28;01mfrom\u001b[39;00m\u001b[38;5;250m \u001b[39m\u001b[34;01me\u001b[39;00m\n\u001b[32m    142\u001b[39m \u001b[38;5;28;01mexcept\u001b[39;00m grpc.FutureTimeoutError \u001b[38;5;28;01mas\u001b[39;00m e:\n\u001b[32m    143\u001b[39m     record_dict[\u001b[33m\"\u001b[39m\u001b[33mgRPC timeout\u001b[39m\u001b[33m\"\u001b[39m] = \u001b[38;5;28mstr\u001b[39m(datetime.datetime.now())\n",
      "\u001b[36mFile \u001b[39m\u001b[32m~/Medi_Data/medi_env/lib/python3.12/site-packages/pymilvus/decorators.py:137\u001b[39m, in \u001b[36merror_handler.<locals>.wrapper.<locals>.handler\u001b[39m\u001b[34m(*args, **kwargs)\u001b[39m\n\u001b[32m    135\u001b[39m \u001b[38;5;28;01mtry\u001b[39;00m:\n\u001b[32m    136\u001b[39m     record_dict[\u001b[33m\"\u001b[39m\u001b[33mRPC start\u001b[39m\u001b[33m\"\u001b[39m] = \u001b[38;5;28mstr\u001b[39m(datetime.datetime.now())\n\u001b[32m--> \u001b[39m\u001b[32m137\u001b[39m     \u001b[38;5;28;01mreturn\u001b[39;00m \u001b[43mfunc\u001b[49m\u001b[43m(\u001b[49m\u001b[43m*\u001b[49m\u001b[43margs\u001b[49m\u001b[43m,\u001b[49m\u001b[43m \u001b[49m\u001b[43m*\u001b[49m\u001b[43m*\u001b[49m\u001b[43mkwargs\u001b[49m\u001b[43m)\u001b[49m\n\u001b[32m    138\u001b[39m \u001b[38;5;28;01mexcept\u001b[39;00m MilvusException \u001b[38;5;28;01mas\u001b[39;00m e:\n\u001b[32m    139\u001b[39m     record_dict[\u001b[33m\"\u001b[39m\u001b[33mRPC error\u001b[39m\u001b[33m\"\u001b[39m] = \u001b[38;5;28mstr\u001b[39m(datetime.datetime.now())\n",
      "\u001b[36mFile \u001b[39m\u001b[32m~/Medi_Data/medi_env/lib/python3.12/site-packages/pymilvus/decorators.py:176\u001b[39m, in \u001b[36mtracing_request.<locals>.wrapper.<locals>.handler\u001b[39m\u001b[34m(self, *args, **kwargs)\u001b[39m\n\u001b[32m    174\u001b[39m \u001b[38;5;28;01mif\u001b[39;00m req_id:\n\u001b[32m    175\u001b[39m     \u001b[38;5;28mself\u001b[39m.set_onetime_request_id(req_id)\n\u001b[32m--> \u001b[39m\u001b[32m176\u001b[39m \u001b[38;5;28;01mreturn\u001b[39;00m \u001b[43mfunc\u001b[49m\u001b[43m(\u001b[49m\u001b[38;5;28;43mself\u001b[39;49m\u001b[43m,\u001b[49m\u001b[43m \u001b[49m\u001b[43m*\u001b[49m\u001b[43margs\u001b[49m\u001b[43m,\u001b[49m\u001b[43m \u001b[49m\u001b[43m*\u001b[49m\u001b[43m*\u001b[49m\u001b[43mkwargs\u001b[49m\u001b[43m)\u001b[49m\n",
      "\u001b[36mFile \u001b[39m\u001b[32m~/Medi_Data/medi_env/lib/python3.12/site-packages/pymilvus/decorators.py:116\u001b[39m, in \u001b[36mretry_on_rpc_failure.<locals>.wrapper.<locals>.handler\u001b[39m\u001b[34m(*args, **kwargs)\u001b[39m\n\u001b[32m    114\u001b[39m         back_off = \u001b[38;5;28mmin\u001b[39m(back_off * back_off_multiplier, max_back_off)\n\u001b[32m    115\u001b[39m     \u001b[38;5;28;01melse\u001b[39;00m:\n\u001b[32m--> \u001b[39m\u001b[32m116\u001b[39m         \u001b[38;5;28;01mraise\u001b[39;00m e \u001b[38;5;28;01mfrom\u001b[39;00m\u001b[38;5;250m \u001b[39m\u001b[34;01me\u001b[39;00m\n\u001b[32m    117\u001b[39m \u001b[38;5;28;01mexcept\u001b[39;00m \u001b[38;5;167;01mException\u001b[39;00m \u001b[38;5;28;01mas\u001b[39;00m e:\n\u001b[32m    118\u001b[39m     \u001b[38;5;28;01mraise\u001b[39;00m e \u001b[38;5;28;01mfrom\u001b[39;00m\u001b[38;5;250m \u001b[39m\u001b[34;01me\u001b[39;00m\n",
      "\u001b[36mFile \u001b[39m\u001b[32m~/Medi_Data/medi_env/lib/python3.12/site-packages/pymilvus/decorators.py:86\u001b[39m, in \u001b[36mretry_on_rpc_failure.<locals>.wrapper.<locals>.handler\u001b[39m\u001b[34m(*args, **kwargs)\u001b[39m\n\u001b[32m     84\u001b[39m \u001b[38;5;28;01mwhile\u001b[39;00m \u001b[38;5;28;01mTrue\u001b[39;00m:\n\u001b[32m     85\u001b[39m     \u001b[38;5;28;01mtry\u001b[39;00m:\n\u001b[32m---> \u001b[39m\u001b[32m86\u001b[39m         \u001b[38;5;28;01mreturn\u001b[39;00m \u001b[43mfunc\u001b[49m\u001b[43m(\u001b[49m\u001b[43m*\u001b[49m\u001b[43margs\u001b[49m\u001b[43m,\u001b[49m\u001b[43m \u001b[49m\u001b[43m*\u001b[49m\u001b[43m*\u001b[49m\u001b[43mkwargs\u001b[49m\u001b[43m)\u001b[49m\n\u001b[32m     87\u001b[39m     \u001b[38;5;28;01mexcept\u001b[39;00m grpc.RpcError \u001b[38;5;28;01mas\u001b[39;00m e:\n\u001b[32m     88\u001b[39m         \u001b[38;5;66;03m# Do not retry on these codes\u001b[39;00m\n\u001b[32m     89\u001b[39m         \u001b[38;5;28;01mif\u001b[39;00m e.code() \u001b[38;5;129;01min\u001b[39;00m IGNORE_RETRY_CODES:\n",
      "\u001b[36mFile \u001b[39m\u001b[32m~/Medi_Data/medi_env/lib/python3.12/site-packages/pymilvus/decorators.py:213\u001b[39m, in \u001b[36mupgrade_reminder.<locals>.handler\u001b[39m\u001b[34m(*args, **kwargs)\u001b[39m\n\u001b[32m    208\u001b[39m     \u001b[38;5;28;01mif\u001b[39;00m e.code() == grpc.StatusCode.UNIMPLEMENTED:\n\u001b[32m    209\u001b[39m         msg = (\n\u001b[32m    210\u001b[39m             \u001b[33m\"\u001b[39m\u001b[33mIncorrect port or sdk is incompatible with server, \u001b[39m\u001b[33m\"\u001b[39m\n\u001b[32m    211\u001b[39m             \u001b[33m\"\u001b[39m\u001b[33mplease check your port or downgrade your sdk or upgrade your server\u001b[39m\u001b[33m\"\u001b[39m\n\u001b[32m    212\u001b[39m         )\n\u001b[32m--> \u001b[39m\u001b[32m213\u001b[39m         \u001b[38;5;28;01mraise\u001b[39;00m MilvusException(message=msg) \u001b[38;5;28;01mfrom\u001b[39;00m\u001b[38;5;250m \u001b[39m\u001b[34;01me\u001b[39;00m\n\u001b[32m    214\u001b[39m     \u001b[38;5;28;01mraise\u001b[39;00m e \u001b[38;5;28;01mfrom\u001b[39;00m\u001b[38;5;250m \u001b[39m\u001b[34;01me\u001b[39;00m\n\u001b[32m    215\u001b[39m \u001b[38;5;28;01mexcept\u001b[39;00m \u001b[38;5;167;01mException\u001b[39;00m \u001b[38;5;28;01mas\u001b[39;00m e:\n",
      "\u001b[31mMilvusException\u001b[39m: <MilvusException: (code=1, message=Incorrect port or sdk is incompatible with server, please check your port or downgrade your sdk or upgrade your server)>"
     ]
    }
   ],
   "source": [
    "from pymilvus import connections\n",
    "from pymilvus import Collection, CollectionSchema, FieldSchema, DataType\n",
    "\n",
    "connections.connect(alias=\"default\", host=\"localhost\", port=\"19530\")"
   ]
  },
  {
   "cell_type": "code",
   "execution_count": 9,
   "id": "c5e50223",
   "metadata": {},
   "outputs": [
    {
     "ename": "MilvusException",
     "evalue": "<MilvusException: (code=2, message=Fail connecting to server on localhost:19530, illegal connection params or server unavailable)>",
     "output_type": "error",
     "traceback": [
      "\u001b[31m---------------------------------------------------------------------------\u001b[39m",
      "\u001b[31mFutureTimeoutError\u001b[39m                        Traceback (most recent call last)",
      "\u001b[36mFile \u001b[39m\u001b[32m~/Medi_Data/medi_env/lib/python3.12/site-packages/pymilvus/client/grpc_handler.py:155\u001b[39m, in \u001b[36mGrpcHandler._wait_for_channel_ready\u001b[39m\u001b[34m(self, timeout)\u001b[39m\n\u001b[32m    154\u001b[39m \u001b[38;5;28;01mtry\u001b[39;00m:\n\u001b[32m--> \u001b[39m\u001b[32m155\u001b[39m     \u001b[43mgrpc\u001b[49m\u001b[43m.\u001b[49m\u001b[43mchannel_ready_future\u001b[49m\u001b[43m(\u001b[49m\u001b[38;5;28;43mself\u001b[39;49m\u001b[43m.\u001b[49m\u001b[43m_channel\u001b[49m\u001b[43m)\u001b[49m\u001b[43m.\u001b[49m\u001b[43mresult\u001b[49m\u001b[43m(\u001b[49m\u001b[43mtimeout\u001b[49m\u001b[43m=\u001b[49m\u001b[43mtimeout\u001b[49m\u001b[43m)\u001b[49m\n\u001b[32m    156\u001b[39m     \u001b[38;5;28mself\u001b[39m._setup_identifier_interceptor(\u001b[38;5;28mself\u001b[39m._user, timeout=timeout)\n",
      "\u001b[36mFile \u001b[39m\u001b[32m~/Medi_Data/medi_env/lib/python3.12/site-packages/grpc/_utilities.py:162\u001b[39m, in \u001b[36m_ChannelReadyFuture.result\u001b[39m\u001b[34m(self, timeout)\u001b[39m\n\u001b[32m    161\u001b[39m \u001b[38;5;28;01mdef\u001b[39;00m\u001b[38;5;250m \u001b[39m\u001b[34mresult\u001b[39m(\u001b[38;5;28mself\u001b[39m, timeout: Optional[\u001b[38;5;28mfloat\u001b[39m] = \u001b[38;5;28;01mNone\u001b[39;00m) -> \u001b[38;5;28;01mNone\u001b[39;00m:\n\u001b[32m--> \u001b[39m\u001b[32m162\u001b[39m     \u001b[38;5;28;43mself\u001b[39;49m\u001b[43m.\u001b[49m\u001b[43m_block\u001b[49m\u001b[43m(\u001b[49m\u001b[43mtimeout\u001b[49m\u001b[43m)\u001b[49m\n",
      "\u001b[36mFile \u001b[39m\u001b[32m~/Medi_Data/medi_env/lib/python3.12/site-packages/grpc/_utilities.py:106\u001b[39m, in \u001b[36m_ChannelReadyFuture._block\u001b[39m\u001b[34m(self, timeout)\u001b[39m\n\u001b[32m    105\u001b[39m \u001b[38;5;28;01mif\u001b[39;00m remaining < \u001b[32m0\u001b[39m:\n\u001b[32m--> \u001b[39m\u001b[32m106\u001b[39m     \u001b[38;5;28;01mraise\u001b[39;00m grpc.FutureTimeoutError()\n\u001b[32m    107\u001b[39m \u001b[38;5;28;01melse\u001b[39;00m:\n",
      "\u001b[31mFutureTimeoutError\u001b[39m: ",
      "\nThe above exception was the direct cause of the following exception:\n",
      "\u001b[31mMilvusException\u001b[39m                           Traceback (most recent call last)",
      "\u001b[36mCell\u001b[39m\u001b[36m \u001b[39m\u001b[32mIn[9]\u001b[39m\u001b[32m, line 4\u001b[39m\n\u001b[32m      1\u001b[39m \u001b[38;5;28;01mfrom\u001b[39;00m\u001b[38;5;250m \u001b[39m\u001b[34;01mpymilvus\u001b[39;00m\u001b[38;5;250m \u001b[39m\u001b[38;5;28;01mimport\u001b[39;00m connections\n\u001b[32m      2\u001b[39m \u001b[38;5;28;01mfrom\u001b[39;00m\u001b[38;5;250m \u001b[39m\u001b[34;01mpymilvus\u001b[39;00m\u001b[38;5;250m \u001b[39m\u001b[38;5;28;01mimport\u001b[39;00m Collection, CollectionSchema, FieldSchema, DataType\n\u001b[32m----> \u001b[39m\u001b[32m4\u001b[39m \u001b[43mconnections\u001b[49m\u001b[43m.\u001b[49m\u001b[43mconnect\u001b[49m\u001b[43m(\u001b[49m\u001b[43malias\u001b[49m\u001b[43m=\u001b[49m\u001b[33;43m\"\u001b[39;49m\u001b[33;43mdefault\u001b[39;49m\u001b[33;43m\"\u001b[39;49m\u001b[43m,\u001b[49m\u001b[43m \u001b[49m\u001b[43mhost\u001b[49m\u001b[43m=\u001b[49m\u001b[33;43m\"\u001b[39;49m\u001b[33;43mlocalhost\u001b[39;49m\u001b[33;43m\"\u001b[39;49m\u001b[43m,\u001b[49m\u001b[43m \u001b[49m\u001b[43mport\u001b[49m\u001b[43m=\u001b[49m\u001b[33;43m\"\u001b[39;49m\u001b[33;43m19530\u001b[39;49m\u001b[33;43m\"\u001b[39;49m\u001b[43m)\u001b[49m\n\u001b[32m      6\u001b[39m \u001b[38;5;66;03m# Define fields\u001b[39;00m\n\u001b[32m      7\u001b[39m id_field = FieldSchema(name=\u001b[33m\"\u001b[39m\u001b[33mid\u001b[39m\u001b[33m\"\u001b[39m, dtype=DataType.INT64, is_primary=\u001b[38;5;28;01mTrue\u001b[39;00m, auto_id=\u001b[38;5;28;01mTrue\u001b[39;00m)\n",
      "\u001b[36mFile \u001b[39m\u001b[32m~/Medi_Data/medi_env/lib/python3.12/site-packages/pymilvus/orm/connections.py:461\u001b[39m, in \u001b[36mConnections.connect\u001b[39m\u001b[34m(self, alias, user, password, db_name, token, _async, **kwargs)\u001b[39m\n\u001b[32m    458\u001b[39m         \u001b[38;5;28;01mif\u001b[39;00m parsed_uri.scheme == \u001b[33m\"\u001b[39m\u001b[33mhttps\u001b[39m\u001b[33m\"\u001b[39m:\n\u001b[32m    459\u001b[39m             kwargs[\u001b[33m\"\u001b[39m\u001b[33msecure\u001b[39m\u001b[33m\"\u001b[39m] = \u001b[38;5;28;01mTrue\u001b[39;00m\n\u001b[32m--> \u001b[39m\u001b[32m461\u001b[39m     \u001b[43mconnect_milvus\u001b[49m\u001b[43m(\u001b[49m\u001b[43m*\u001b[49m\u001b[43m*\u001b[49m\u001b[43mkwargs\u001b[49m\u001b[43m,\u001b[49m\u001b[43m \u001b[49m\u001b[43muser\u001b[49m\u001b[43m=\u001b[49m\u001b[43muser\u001b[49m\u001b[43m,\u001b[49m\u001b[43m \u001b[49m\u001b[43mpassword\u001b[49m\u001b[43m=\u001b[49m\u001b[43mpassword\u001b[49m\u001b[43m,\u001b[49m\u001b[43m \u001b[49m\u001b[43mtoken\u001b[49m\u001b[43m=\u001b[49m\u001b[43mtoken\u001b[49m\u001b[43m,\u001b[49m\u001b[43m \u001b[49m\u001b[43mdb_name\u001b[49m\u001b[43m=\u001b[49m\u001b[43mdb_name\u001b[49m\u001b[43m)\u001b[49m\n\u001b[32m    462\u001b[39m     \u001b[38;5;28;01mreturn\u001b[39;00m\n\u001b[32m    464\u001b[39m \u001b[38;5;66;03m# 2nd Priority, connection configs from env\u001b[39;00m\n",
      "\u001b[36mFile \u001b[39m\u001b[32m~/Medi_Data/medi_env/lib/python3.12/site-packages/pymilvus/orm/connections.py:411\u001b[39m, in \u001b[36mConnections.connect.<locals>.connect_milvus\u001b[39m\u001b[34m(**kwargs)\u001b[39m\n\u001b[32m    408\u001b[39m timeout = t \u001b[38;5;28;01mif\u001b[39;00m \u001b[38;5;28misinstance\u001b[39m(t, (\u001b[38;5;28mint\u001b[39m, \u001b[38;5;28mfloat\u001b[39m)) \u001b[38;5;28;01melse\u001b[39;00m Config.MILVUS_CONN_TIMEOUT\n\u001b[32m    410\u001b[39m \u001b[38;5;28;01mif\u001b[39;00m \u001b[38;5;129;01mnot\u001b[39;00m _async:\n\u001b[32m--> \u001b[39m\u001b[32m411\u001b[39m     \u001b[43mgh\u001b[49m\u001b[43m.\u001b[49m\u001b[43m_wait_for_channel_ready\u001b[49m\u001b[43m(\u001b[49m\u001b[43mtimeout\u001b[49m\u001b[43m=\u001b[49m\u001b[43mtimeout\u001b[49m\u001b[43m)\u001b[49m\n\u001b[32m    413\u001b[39m \u001b[38;5;28;01mif\u001b[39;00m kwargs.get(\u001b[33m\"\u001b[39m\u001b[33mkeep_alive\u001b[39m\u001b[33m\"\u001b[39m, \u001b[38;5;28;01mFalse\u001b[39;00m):\n\u001b[32m    414\u001b[39m     gh.register_state_change_callback(\n\u001b[32m    415\u001b[39m         ReconnectHandler(\u001b[38;5;28mself\u001b[39m, alias, kwargs_copy).reconnect_on_idle\n\u001b[32m    416\u001b[39m     )\n",
      "\u001b[36mFile \u001b[39m\u001b[32m~/Medi_Data/medi_env/lib/python3.12/site-packages/pymilvus/client/grpc_handler.py:159\u001b[39m, in \u001b[36mGrpcHandler._wait_for_channel_ready\u001b[39m\u001b[34m(self, timeout)\u001b[39m\n\u001b[32m    157\u001b[39m \u001b[38;5;28;01mexcept\u001b[39;00m grpc.FutureTimeoutError \u001b[38;5;28;01mas\u001b[39;00m e:\n\u001b[32m    158\u001b[39m     \u001b[38;5;28mself\u001b[39m.close()\n\u001b[32m--> \u001b[39m\u001b[32m159\u001b[39m     \u001b[38;5;28;01mraise\u001b[39;00m MilvusException(\n\u001b[32m    160\u001b[39m         code=Status.CONNECT_FAILED,\n\u001b[32m    161\u001b[39m         message=\u001b[33mf\u001b[39m\u001b[33m\"\u001b[39m\u001b[33mFail connecting to server on \u001b[39m\u001b[38;5;132;01m{\u001b[39;00m\u001b[38;5;28mself\u001b[39m._address\u001b[38;5;132;01m}\u001b[39;00m\u001b[33m, illegal connection params or server unavailable\u001b[39m\u001b[33m\"\u001b[39m,\n\u001b[32m    162\u001b[39m     ) \u001b[38;5;28;01mfrom\u001b[39;00m\u001b[38;5;250m \u001b[39m\u001b[34;01me\u001b[39;00m\n\u001b[32m    163\u001b[39m \u001b[38;5;28;01mexcept\u001b[39;00m \u001b[38;5;167;01mException\u001b[39;00m \u001b[38;5;28;01mas\u001b[39;00m e:\n\u001b[32m    164\u001b[39m     \u001b[38;5;28mself\u001b[39m.close()\n",
      "\u001b[31mMilvusException\u001b[39m: <MilvusException: (code=2, message=Fail connecting to server on localhost:19530, illegal connection params or server unavailable)>"
     ]
    }
   ],
   "source": [
    "from pymilvus import connections\n",
    "from pymilvus import Collection, CollectionSchema, FieldSchema, DataType\n",
    "\n",
    "connections.connect(alias=\"default\", host=\"localhost\", port=\"19530\")\n",
    "\n",
    "# Define fields\n",
    "id_field = FieldSchema(name=\"id\", dtype=DataType.INT64, is_primary=True, auto_id=True)\n",
    "type_field = FieldSchema(name=\"type\", dtype=DataType.INT64)  # EHR, SNOMED, etc.\n",
    "source_field = FieldSchema(name=\"source\", dtype=DataType.INT64)  # Bio_ClinicalBERT, etc.\n",
    "embedding_field = FieldSchema(name=\"embedding\", dtype=DataType.FLOAT_VECTOR, dim=768)  # Adjust if needed\n",
    "\n",
    "# Create collection schema\n",
    "schema = CollectionSchema(fields=[id_field, type_field, source_field, embedding_field])\n",
    "\n",
    "# Initialize collection\n",
    "collection = Collection(name=\"medical_embeddings\", schema=schema)"
   ]
  }
 ],
 "metadata": {
  "kernelspec": {
   "display_name": "medi_env",
   "language": "python",
   "name": "python3"
  },
  "language_info": {
   "codemirror_mode": {
    "name": "ipython",
    "version": 3
   },
   "file_extension": ".py",
   "mimetype": "text/x-python",
   "name": "python",
   "nbconvert_exporter": "python",
   "pygments_lexer": "ipython3",
   "version": "3.12.3"
  }
 },
 "nbformat": 4,
 "nbformat_minor": 5
}
